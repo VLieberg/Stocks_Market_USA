{
 "cells": [
  {
   "cell_type": "markdown",
   "id": "17382aee",
   "metadata": {},
   "source": [
    "**Downloads all Stock Data from a Given Index for 5 Years**"
   ]
  },
  {
   "cell_type": "code",
   "execution_count": 7,
   "id": "e6f7c6a9",
   "metadata": {},
   "outputs": [],
   "source": [
    "#!pip install cufflinks"
   ]
  },
  {
   "cell_type": "code",
   "execution_count": 6,
   "id": "d61315d6",
   "metadata": {},
   "outputs": [
    {
     "data": {
      "text/html": [
       "        <script type=\"text/javascript\">\n",
       "        window.PlotlyConfig = {MathJaxConfig: 'local'};\n",
       "        if (window.MathJax) {MathJax.Hub.Config({SVG: {font: \"STIX-Web\"}});}\n",
       "        if (typeof require !== 'undefined') {\n",
       "        require.undef(\"plotly\");\n",
       "        requirejs.config({\n",
       "            paths: {\n",
       "                'plotly': ['https://cdn.plot.ly/plotly-2.8.3.min']\n",
       "            }\n",
       "        });\n",
       "        require(['plotly'], function(Plotly) {\n",
       "            window._Plotly = Plotly;\n",
       "        });\n",
       "        }\n",
       "        </script>\n",
       "        "
      ]
     },
     "metadata": {},
     "output_type": "display_data"
    },
    {
     "data": {
      "text/html": [
       "        <script type=\"text/javascript\">\n",
       "        window.PlotlyConfig = {MathJaxConfig: 'local'};\n",
       "        if (window.MathJax) {MathJax.Hub.Config({SVG: {font: \"STIX-Web\"}});}\n",
       "        if (typeof require !== 'undefined') {\n",
       "        require.undef(\"plotly\");\n",
       "        requirejs.config({\n",
       "            paths: {\n",
       "                'plotly': ['https://cdn.plot.ly/plotly-2.8.3.min']\n",
       "            }\n",
       "        });\n",
       "        require(['plotly'], function(Plotly) {\n",
       "            window._Plotly = Plotly;\n",
       "        });\n",
       "        }\n",
       "        </script>\n",
       "        "
      ]
     },
     "metadata": {},
     "output_type": "display_data"
    }
   ],
   "source": [
    "# Provides ways to work with large multidimensional arrays\n",
    "import numpy as np \n",
    "# Allows for further data manipulation and analysis\n",
    "import pandas as pd \n",
    "import matplotlib.pyplot as plt # Plotting\n",
    "import matplotlib.dates as mdates # Styling dates\n",
    "%matplotlib inline\n",
    "\n",
    "# pip install numpy\n",
    "# conda install -c anaconda pandas\n",
    "# conda install -c conda-forge matplotlib\n",
    "\n",
    "import datetime as dt # For defining dates\n",
    "\n",
    "import time\n",
    "\n",
    "# In Powershell Prompt : conda install -c conda-forge multitasking\n",
    "# pip install -i https://pypi.anaconda.org/ranaroussi/simple yfinance\n",
    "\n",
    "import yfinance as yf\n",
    "\n",
    "# To show all your output File -> Preferences -> Settings Search for Notebook\n",
    "# Notebook Output Text Line Limit and set to 100\n",
    "\n",
    "# Used for file handling like deleting files\n",
    "import os\n",
    "\n",
    "# conda install -c conda-forge cufflinks-py\n",
    "# conda install -c plotly plotly\n",
    "import cufflinks as cf\n",
    "import plotly.express as px\n",
    "import plotly.graph_objects as go\n",
    "\n",
    "# Make Plotly work in your Jupyter Notebook\n",
    "from plotly.offline import download_plotlyjs, init_notebook_mode, plot, iplot\n",
    "init_notebook_mode(connected=True)\n",
    "# Use Plotly locally\n",
    "cf.go_offline()\n",
    "\n",
    "from plotly.subplots import make_subplots\n",
    "\n",
    "import warnings\n",
    "warnings.simplefilter(\"ignore\")"
   ]
  },
  {
   "cell_type": "markdown",
   "id": "703943e2",
   "metadata": {},
   "source": [
    "**Constants**"
   ]
  },
  {
   "cell_type": "code",
   "execution_count": 8,
   "id": "8726765f",
   "metadata": {},
   "outputs": [],
   "source": [
    "PATH = \"../raw_data/yahoo_stocks/\"\n",
    "# file with tickers\n",
    "file = '../raw_data/stocks_ticker/VL_5000_stocks.csv'\n",
    "\n",
    "# Start end date defaults\n",
    "S_DATE = \"2017-01-03\"\n",
    "E_DATE = \"2022-04-05\"\n",
    "S_DATE_DT = pd.to_datetime(S_DATE)\n",
    "E_DATE_DT = pd.to_datetime(E_DATE)"
   ]
  },
  {
   "cell_type": "markdown",
   "id": "4f3f38f2",
   "metadata": {},
   "source": [
    "**Holds Stocks Not Downloaded**"
   ]
  },
  {
   "cell_type": "code",
   "execution_count": 13,
   "id": "d57b9399",
   "metadata": {},
   "outputs": [],
   "source": [
    "stocks_not_downloaded = []\n",
    "missing_stocks = []"
   ]
  },
  {
   "cell_type": "markdown",
   "id": "e53b39b4",
   "metadata": {},
   "source": [
    "**Function that Returns a Stock Dataframe from a CSV**"
   ]
  },
  {
   "cell_type": "code",
   "execution_count": 14,
   "id": "8a1b37a5",
   "metadata": {},
   "outputs": [],
   "source": [
    "# Reads a dataframe from the CSV file, changes index to date and returns it\n",
    "def get_stock_df_from_csv(ticker):\n",
    "    \n",
    "    # Try to get the file and if it doesn't exist issue a warning\n",
    "    try:\n",
    "        df = pd.read_csv(PATH + ticker + '.csv', index_col=0)\n",
    "    except FileNotFoundError:\n",
    "        print(\"File Doesn't Exist\")\n",
    "    else:\n",
    "        return df"
   ]
  },
  {
   "cell_type": "markdown",
   "id": "a7674c47",
   "metadata": {},
   "source": [
    "**Returns a Named Columns Data from a CSV**"
   ]
  },
  {
   "cell_type": "code",
   "execution_count": 15,
   "id": "a5c38c37",
   "metadata": {},
   "outputs": [],
   "source": [
    "def get_column_from_csv(file, col_name):\n",
    "    # Try to get the file and if it doesn't exist issue a warning\n",
    "    try:\n",
    "        df = pd.read_csv(file)\n",
    "    except FileNotFoundError:\n",
    "        print(\"File Doesn't Exist\")\n",
    "    else:\n",
    "        return df[col_name]"
   ]
  },
  {
   "cell_type": "markdown",
   "id": "bb73d919",
   "metadata": {},
   "source": [
    "**Get Stock Tickers**"
   ]
  },
  {
   "cell_type": "code",
   "execution_count": 19,
   "id": "a540f093",
   "metadata": {},
   "outputs": [
    {
     "data": {
      "text/plain": [
       "3481"
      ]
     },
     "execution_count": 19,
     "metadata": {},
     "output_type": "execute_result"
    }
   ],
   "source": [
    "# Total of 3482 tickers\n",
    "tickers = get_column_from_csv(file, \"Ticker\")\n",
    "tickers\n",
    "\n",
    "# for x in tickers:\n",
    "#      print(x, end=\", \")\n",
    "\n",
    "len(tickers)"
   ]
  },
  {
   "cell_type": "markdown",
   "id": "a7a7a4e0",
   "metadata": {},
   "source": [
    "**Function that Saves Stock Data to CSV**"
   ]
  },
  {
   "cell_type": "code",
   "execution_count": 20,
   "id": "6e889c45",
   "metadata": {},
   "outputs": [],
   "source": [
    "# Function that gets a dataframe by providing a ticker and starting date\n",
    "def save_to_csv_from_yahoo(folder, ticker):\n",
    "    \n",
    "    stock = yf.Ticker(ticker)\n",
    "    \n",
    "    try:\n",
    "        print(\"Get Data for : \", ticker)\n",
    "        # Get historical closing price data\n",
    "        df = stock.history(period=\"5y\")\n",
    "    \n",
    "        # Wait 2 seconds\n",
    "        time.sleep(2)\n",
    "        \n",
    "        if df.empty:\n",
    "            stocks_not_downloaded.append(ticker)\n",
    "        \n",
    "        # Remove the period for saving the file name\n",
    "        # Save data to a CSV file\n",
    "        # File to save to \n",
    "        the_file = folder + ticker.replace(\".\", \"_\") + '.csv'\n",
    "        print(the_file, \" Saved\")\n",
    "        df.to_csv(the_file)\n",
    "    except Exception as ex:\n",
    "        stocks_not_downloaded.append(ticker)\n",
    "        print(\"Couldn't Get Data for :\", ticker)"
   ]
  },
  {
   "cell_type": "markdown",
   "id": "7502a80e",
   "metadata": {},
   "source": [
    "**Get 5 Years of Data for the 1st 20 Stocks**"
   ]
  },
  {
   "cell_type": "code",
   "execution_count": 23,
   "id": "f84faaf0",
   "metadata": {},
   "outputs": [
    {
     "name": "stdout",
     "output_type": "stream",
     "text": [
      "Get Data for :  A\n",
      "../raw_data/data_stocks/A.csv  Saved\n",
      "Get Data for :  AA\n",
      "../raw_data/data_stocks/AA.csv  Saved\n",
      "Get Data for :  AAL\n",
      "../raw_data/data_stocks/AAL.csv  Saved\n",
      "Get Data for :  AAME\n",
      "../raw_data/data_stocks/AAME.csv  Saved\n",
      "Get Data for :  AAN\n",
      "../raw_data/data_stocks/AAN.csv  Saved\n",
      "Get Data for :  AAOI\n",
      "../raw_data/data_stocks/AAOI.csv  Saved\n",
      "Get Data for :  AAON\n",
      "../raw_data/data_stocks/AAON.csv  Saved\n",
      "Get Data for :  AAP\n",
      "../raw_data/data_stocks/AAP.csv  Saved\n",
      "Get Data for :  AAPL\n",
      "../raw_data/data_stocks/AAPL.csv  Saved\n",
      "Get Data for :  AAT\n",
      "../raw_data/data_stocks/AAT.csv  Saved\n",
      "Get Data for :  AAWW\n",
      "../raw_data/data_stocks/AAWW.csv  Saved\n",
      "Get Data for :  AAXN\n",
      "- AAXN: No data found, symbol may be delisted\n",
      "../raw_data/data_stocks/AAXN.csv  Saved\n",
      "Get Data for :  ABBV\n",
      "../raw_data/data_stocks/ABBV.csv  Saved\n",
      "Get Data for :  ABC\n",
      "../raw_data/data_stocks/ABC.csv  Saved\n",
      "Get Data for :  ABCB\n",
      "../raw_data/data_stocks/ABCB.csv  Saved\n",
      "Get Data for :  ABEO\n",
      "../raw_data/data_stocks/ABEO.csv  Saved\n",
      "Get Data for :  ABG\n",
      "../raw_data/data_stocks/ABG.csv  Saved\n",
      "Get Data for :  ABIO\n",
      "../raw_data/data_stocks/ABIO.csv  Saved\n",
      "Get Data for :  ABM\n",
      "../raw_data/data_stocks/ABM.csv  Saved\n",
      "Get Data for :  ABMD\n",
      "../raw_data/data_stocks/ABMD.csv  Saved\n",
      "Finished\n"
     ]
    }
   ],
   "source": [
    "# # Folder used to store stock data\n",
    "folder = \"../raw_data/data_stocks/\"\n",
    "\n",
    "for x in range(20):\n",
    "   save_to_csv_from_yahoo(folder, tickers[x])\n",
    "print(\"Finished\")"
   ]
  },
  {
   "cell_type": "markdown",
   "id": "af83e5fe",
   "metadata": {},
   "source": [
    "**Stocks Not Downloaded**"
   ]
  },
  {
   "cell_type": "code",
   "execution_count": 24,
   "id": "52f6a302",
   "metadata": {},
   "outputs": [
    {
     "data": {
      "text/plain": [
       "['AAXN']"
      ]
     },
     "execution_count": 24,
     "metadata": {},
     "output_type": "execute_result"
    }
   ],
   "source": [
    "stocks_not_downloaded"
   ]
  },
  {
   "cell_type": "markdown",
   "id": "41b38f11",
   "metadata": {},
   "source": [
    "**Get Next 80 Stocks**"
   ]
  },
  {
   "cell_type": "code",
   "execution_count": null,
   "id": "5dbeb23f",
   "metadata": {},
   "outputs": [],
   "source": [
    "# for x in range(20, 100):\n",
    "#   save_to_csv_from_yahoo(folder, tickers[x])\n",
    "# print(\"Finished\")\n",
    "# stocks_not_downloaded"
   ]
  },
  {
   "cell_type": "markdown",
   "id": "97d74352",
   "metadata": {},
   "source": [
    "**Get Rest of Stocks**"
   ]
  },
  {
   "cell_type": "code",
   "execution_count": null,
   "id": "85f1d72b",
   "metadata": {},
   "outputs": [],
   "source": [
    "# for x in range(3001, 3481):\n",
    "#   save_to_csv_from_yahoo(folder, tickers[x])\n",
    "# print(\"Finished\")\n",
    "# stocks_not_downloaded"
   ]
  },
  {
   "cell_type": "markdown",
   "id": "635b9f4a",
   "metadata": {},
   "source": [
    "**Delete Empty Files**"
   ]
  },
  {
   "cell_type": "code",
   "execution_count": 25,
   "id": "7fcb1544",
   "metadata": {},
   "outputs": [
    {
     "name": "stdout",
     "output_type": "stream",
     "text": [
      "Finished\n"
     ]
    }
   ],
   "source": [
    "try:\n",
    "  for x in missing_stocks:\n",
    "    os.remove(folder + x + \".csv\")\n",
    "except FileNotFoundError:\n",
    "  print(\"Couldn't Find \" + x)\n",
    "\n",
    "print(\"Finished\")"
   ]
  },
  {
   "cell_type": "markdown",
   "id": "9b86ef37",
   "metadata": {},
   "source": [
    "**Are FAANG Stocks Worth Investing in?**"
   ]
  },
  {
   "cell_type": "code",
   "execution_count": 26,
   "id": "f5ab65d0",
   "metadata": {},
   "outputs": [
    {
     "name": "stdout",
     "output_type": "stream",
     "text": [
      "Get Data for :  FB\n",
      "../raw_data/data_stocks/FB.csv  Saved\n",
      "Finished FB\n",
      "Get Data for :  AMZN\n",
      "../raw_data/data_stocks/AMZN.csv  Saved\n",
      "Finished AMZN\n",
      "Get Data for :  AAPL\n",
      "../raw_data/data_stocks/AAPL.csv  Saved\n",
      "Finished AAPL\n",
      "Get Data for :  NFLX\n",
      "../raw_data/data_stocks/NFLX.csv  Saved\n",
      "Finished NFLX\n",
      "Get Data for :  GOOG\n",
      "../raw_data/data_stocks/GOOG.csv  Saved\n",
      "Finished GOOG\n"
     ]
    }
   ],
   "source": [
    "# Download just those stocks were are working with to make them up to date\n",
    "# Facebook, Amazon, Apple, Netflix, Google\n",
    "tickers = [\"FB\", \"AMZN\", \"AAPL\", \"NFLX\", \"GOOG\"]\n",
    "\n",
    "for i in tickers:\n",
    "    save_to_csv_from_yahoo(folder, i)\n",
    "    print(\"Finished \" + i)"
   ]
  },
  {
   "cell_type": "code",
   "execution_count": 27,
   "id": "6d4154cf",
   "metadata": {},
   "outputs": [
    {
     "name": "stdout",
     "output_type": "stream",
     "text": [
      "File Doesn't Exist\n",
      "File Doesn't Exist\n",
      "File Doesn't Exist\n",
      "File Doesn't Exist\n",
      "File Doesn't Exist\n"
     ]
    },
    {
     "ename": "AttributeError",
     "evalue": "'NoneType' object has no attribute 'index'",
     "output_type": "error",
     "traceback": [
      "\u001b[0;31m---------------------------------------------------------------------------\u001b[0m",
      "\u001b[0;31mAttributeError\u001b[0m                            Traceback (most recent call last)",
      "\u001b[0;32m/var/folders/s2/rxgrts2d0x3cngcs6yc5fmr40000gn/T/ipykernel_66833/2939536157.py\u001b[0m in \u001b[0;36m<module>\u001b[0;34m\u001b[0m\n\u001b[1;32m     14\u001b[0m \u001b[0mamzn_df\u001b[0m\u001b[0;34m\u001b[0m\u001b[0;34m\u001b[0m\u001b[0m\n\u001b[1;32m     15\u001b[0m \u001b[0;34m\u001b[0m\u001b[0m\n\u001b[0;32m---> 16\u001b[0;31m \u001b[0mfb_plot\u001b[0m \u001b[0;34m=\u001b[0m \u001b[0mgo\u001b[0m\u001b[0;34m.\u001b[0m\u001b[0mScatter\u001b[0m\u001b[0;34m(\u001b[0m\u001b[0mx\u001b[0m\u001b[0;34m=\u001b[0m\u001b[0mfb_df\u001b[0m\u001b[0;34m.\u001b[0m\u001b[0mindex\u001b[0m\u001b[0;34m,\u001b[0m \u001b[0my\u001b[0m\u001b[0;34m=\u001b[0m\u001b[0mfb_df\u001b[0m\u001b[0;34m[\u001b[0m\u001b[0;34m'Close'\u001b[0m\u001b[0;34m]\u001b[0m\u001b[0;34m,\u001b[0m \u001b[0mname\u001b[0m\u001b[0;34m=\u001b[0m\u001b[0;34m\"Facebook\"\u001b[0m\u001b[0;34m)\u001b[0m\u001b[0;34m\u001b[0m\u001b[0;34m\u001b[0m\u001b[0m\n\u001b[0m\u001b[1;32m     17\u001b[0m \u001b[0mamzn_plot\u001b[0m \u001b[0;34m=\u001b[0m \u001b[0mgo\u001b[0m\u001b[0;34m.\u001b[0m\u001b[0mScatter\u001b[0m\u001b[0;34m(\u001b[0m\u001b[0mx\u001b[0m\u001b[0;34m=\u001b[0m\u001b[0mamzn_df\u001b[0m\u001b[0;34m.\u001b[0m\u001b[0mindex\u001b[0m\u001b[0;34m,\u001b[0m \u001b[0my\u001b[0m\u001b[0;34m=\u001b[0m\u001b[0mamzn_df\u001b[0m\u001b[0;34m[\u001b[0m\u001b[0;34m'Close'\u001b[0m\u001b[0;34m]\u001b[0m\u001b[0;34m,\u001b[0m \u001b[0mname\u001b[0m\u001b[0;34m=\u001b[0m\u001b[0;34m\"Amazon\"\u001b[0m\u001b[0;34m)\u001b[0m\u001b[0;34m\u001b[0m\u001b[0;34m\u001b[0m\u001b[0m\n\u001b[1;32m     18\u001b[0m \u001b[0maapl_plot\u001b[0m \u001b[0;34m=\u001b[0m \u001b[0mgo\u001b[0m\u001b[0;34m.\u001b[0m\u001b[0mScatter\u001b[0m\u001b[0;34m(\u001b[0m\u001b[0mx\u001b[0m\u001b[0;34m=\u001b[0m\u001b[0maapl_df\u001b[0m\u001b[0;34m.\u001b[0m\u001b[0mindex\u001b[0m\u001b[0;34m,\u001b[0m \u001b[0my\u001b[0m\u001b[0;34m=\u001b[0m\u001b[0maapl_df\u001b[0m\u001b[0;34m[\u001b[0m\u001b[0;34m'Close'\u001b[0m\u001b[0;34m]\u001b[0m\u001b[0;34m,\u001b[0m \u001b[0mname\u001b[0m\u001b[0;34m=\u001b[0m\u001b[0;34m\"Apple\"\u001b[0m\u001b[0;34m)\u001b[0m\u001b[0;34m\u001b[0m\u001b[0;34m\u001b[0m\u001b[0m\n",
      "\u001b[0;31mAttributeError\u001b[0m: 'NoneType' object has no attribute 'index'"
     ]
    }
   ],
   "source": [
    "fig = go.Figure()\n",
    "\n",
    "# Get the dataframe with all FB's data\n",
    "fb_df = get_stock_df_from_csv(\"FB\")\n",
    "\n",
    "# fb_df.head()\n",
    "\n",
    "# Get closing price for the rest\n",
    "amzn_df = get_stock_df_from_csv(\"AMZN\")\n",
    "aapl_df = get_stock_df_from_csv(\"AAPL\")\n",
    "nflx_df = get_stock_df_from_csv(\"NFLX\")\n",
    "goog_df = get_stock_df_from_csv(\"GOOG\")\n",
    "\n",
    "amzn_df\n",
    "\n",
    "fb_plot = go.Scatter(x=fb_df.index, y=fb_df['Close'], name=\"Facebook\")\n",
    "amzn_plot = go.Scatter(x=amzn_df.index, y=amzn_df['Close'], name=\"Amazon\")\n",
    "aapl_plot = go.Scatter(x=aapl_df.index, y=aapl_df['Close'], name=\"Apple\")\n",
    "nflx_plot = go.Scatter(x=nflx_df.index, y=nflx_df['Close'], name=\"Netflix\")\n",
    "goog_plot = go.Scatter(x=goog_df.index, y=goog_df['Close'], name=\"Google\")\n",
    "\n",
    "# Plot price changes\n",
    "fig.add_trace(fb_plot)\n",
    "fig.add_trace(amzn_plot)\n",
    "fig.add_trace(aapl_plot)\n",
    "fig.add_trace(nflx_plot)\n",
    "fig.add_trace(goog_plot)\n",
    "\n",
    "fig.update_xaxes(title=\"Date\", rangeslider_visible=True)\n",
    "fig.update_yaxes(title=\"Price\")\n",
    "fig.update_layout(height=1200, width=1800, \n",
    "                  showlegend=True)\n",
    "fig.show()\n",
    "\n",
    "# This data isn't useful for our purposes because the scales are different\n",
    "# We must calculate the daily returns for these stocks to get data we can\n",
    "# work with"
   ]
  },
  {
   "cell_type": "markdown",
   "id": "32512b1b",
   "metadata": {},
   "source": [
    "**Daily Returns**"
   ]
  },
  {
   "cell_type": "markdown",
   "id": "b3daf554",
   "metadata": {},
   "source": [
    "For single stocks to find the daily return we subtract opening price from the closing price. Then you could multiply by the number of shares owned.\n",
    "\n",
    "We calculate a percentage rate of return for each day to compare investments. Simple Rate of Return = (End Price - Beginning Price) / Beginning Price OR (EP / BP) - 1\n",
    "\n"
   ]
  },
  {
   "cell_type": "code",
   "execution_count": 28,
   "id": "1a396ef4",
   "metadata": {},
   "outputs": [],
   "source": [
    "# Shift provides the value from the previous day\n",
    "# NaN is displayed because there was no previous day price for the 1st calculation\n",
    "def add_daily_return_to_df(df, ticker):\n",
    "    df['daily_return'] = (df['Close'] / df['Close'].shift(1)) - 1\n",
    "    # Save data to a CSV file\n",
    "    df.to_csv(PATH + ticker + '.csv')\n",
    "    return df  "
   ]
  },
  {
   "cell_type": "code",
   "execution_count": 29,
   "id": "a48a2dcf",
   "metadata": {},
   "outputs": [
    {
     "ename": "TypeError",
     "evalue": "'NoneType' object is not subscriptable",
     "output_type": "error",
     "traceback": [
      "\u001b[0;31m---------------------------------------------------------------------------\u001b[0m",
      "\u001b[0;31mTypeError\u001b[0m                                 Traceback (most recent call last)",
      "\u001b[0;32m/var/folders/s2/rxgrts2d0x3cngcs6yc5fmr40000gn/T/ipykernel_66833/3614571541.py\u001b[0m in \u001b[0;36m<module>\u001b[0;34m\u001b[0m\n\u001b[0;32m----> 1\u001b[0;31m \u001b[0madd_daily_return_to_df\u001b[0m\u001b[0;34m(\u001b[0m\u001b[0mfb_df\u001b[0m\u001b[0;34m,\u001b[0m \u001b[0;34m\"FB\"\u001b[0m\u001b[0;34m)\u001b[0m\u001b[0;34m\u001b[0m\u001b[0;34m\u001b[0m\u001b[0m\n\u001b[0m\u001b[1;32m      2\u001b[0m \u001b[0madd_daily_return_to_df\u001b[0m\u001b[0;34m(\u001b[0m\u001b[0mamzn_df\u001b[0m\u001b[0;34m,\u001b[0m \u001b[0;34m\"AMZN\"\u001b[0m\u001b[0;34m)\u001b[0m\u001b[0;34m\u001b[0m\u001b[0;34m\u001b[0m\u001b[0m\n\u001b[1;32m      3\u001b[0m \u001b[0madd_daily_return_to_df\u001b[0m\u001b[0;34m(\u001b[0m\u001b[0maapl_df\u001b[0m\u001b[0;34m,\u001b[0m \u001b[0;34m\"AAPL\"\u001b[0m\u001b[0;34m)\u001b[0m\u001b[0;34m\u001b[0m\u001b[0;34m\u001b[0m\u001b[0m\n\u001b[1;32m      4\u001b[0m \u001b[0madd_daily_return_to_df\u001b[0m\u001b[0;34m(\u001b[0m\u001b[0mnflx_df\u001b[0m\u001b[0;34m,\u001b[0m \u001b[0;34m\"NFLX\"\u001b[0m\u001b[0;34m)\u001b[0m\u001b[0;34m\u001b[0m\u001b[0;34m\u001b[0m\u001b[0m\n\u001b[1;32m      5\u001b[0m \u001b[0madd_daily_return_to_df\u001b[0m\u001b[0;34m(\u001b[0m\u001b[0mgoog_df\u001b[0m\u001b[0;34m,\u001b[0m \u001b[0;34m\"GOOG\"\u001b[0m\u001b[0;34m)\u001b[0m\u001b[0;34m\u001b[0m\u001b[0;34m\u001b[0m\u001b[0m\n",
      "\u001b[0;32m/var/folders/s2/rxgrts2d0x3cngcs6yc5fmr40000gn/T/ipykernel_66833/3076596347.py\u001b[0m in \u001b[0;36madd_daily_return_to_df\u001b[0;34m(df, ticker)\u001b[0m\n\u001b[1;32m      2\u001b[0m \u001b[0;31m# NaN is displayed because there was no previous day price for the 1st calculation\u001b[0m\u001b[0;34m\u001b[0m\u001b[0;34m\u001b[0m\u001b[0;34m\u001b[0m\u001b[0m\n\u001b[1;32m      3\u001b[0m \u001b[0;32mdef\u001b[0m \u001b[0madd_daily_return_to_df\u001b[0m\u001b[0;34m(\u001b[0m\u001b[0mdf\u001b[0m\u001b[0;34m,\u001b[0m \u001b[0mticker\u001b[0m\u001b[0;34m)\u001b[0m\u001b[0;34m:\u001b[0m\u001b[0;34m\u001b[0m\u001b[0;34m\u001b[0m\u001b[0m\n\u001b[0;32m----> 4\u001b[0;31m     \u001b[0mdf\u001b[0m\u001b[0;34m[\u001b[0m\u001b[0;34m'daily_return'\u001b[0m\u001b[0;34m]\u001b[0m \u001b[0;34m=\u001b[0m \u001b[0;34m(\u001b[0m\u001b[0mdf\u001b[0m\u001b[0;34m[\u001b[0m\u001b[0;34m'Close'\u001b[0m\u001b[0;34m]\u001b[0m \u001b[0;34m/\u001b[0m \u001b[0mdf\u001b[0m\u001b[0;34m[\u001b[0m\u001b[0;34m'Close'\u001b[0m\u001b[0;34m]\u001b[0m\u001b[0;34m.\u001b[0m\u001b[0mshift\u001b[0m\u001b[0;34m(\u001b[0m\u001b[0;36m1\u001b[0m\u001b[0;34m)\u001b[0m\u001b[0;34m)\u001b[0m \u001b[0;34m-\u001b[0m \u001b[0;36m1\u001b[0m\u001b[0;34m\u001b[0m\u001b[0;34m\u001b[0m\u001b[0m\n\u001b[0m\u001b[1;32m      5\u001b[0m     \u001b[0;31m# Save data to a CSV file\u001b[0m\u001b[0;34m\u001b[0m\u001b[0;34m\u001b[0m\u001b[0;34m\u001b[0m\u001b[0m\n\u001b[1;32m      6\u001b[0m     \u001b[0mdf\u001b[0m\u001b[0;34m.\u001b[0m\u001b[0mto_csv\u001b[0m\u001b[0;34m(\u001b[0m\u001b[0mPATH\u001b[0m \u001b[0;34m+\u001b[0m \u001b[0mticker\u001b[0m \u001b[0;34m+\u001b[0m \u001b[0;34m'.csv'\u001b[0m\u001b[0;34m)\u001b[0m\u001b[0;34m\u001b[0m\u001b[0;34m\u001b[0m\u001b[0m\n",
      "\u001b[0;31mTypeError\u001b[0m: 'NoneType' object is not subscriptable"
     ]
    }
   ],
   "source": [
    "add_daily_return_to_df(fb_df, \"FB\")\n",
    "add_daily_return_to_df(amzn_df, \"AMZN\")\n",
    "add_daily_return_to_df(aapl_df, \"AAPL\")\n",
    "add_daily_return_to_df(nflx_df, \"NFLX\")\n",
    "add_daily_return_to_df(goog_df, \"GOOG\")\n",
    "goog_df.head()"
   ]
  },
  {
   "cell_type": "markdown",
   "id": "94e01fec",
   "metadata": {},
   "source": [
    "**Get Cumulative Return**"
   ]
  },
  {
   "cell_type": "code",
   "execution_count": null,
   "id": "b3198c83",
   "metadata": {},
   "outputs": [],
   "source": [
    "def add_cum_return_to_df(df, ticker):\n",
    "    df['cum_return'] = (1 + df['daily_return']).cumprod()\n",
    "    df.to_csv(PATH + ticker + '.csv')\n",
    "    return df"
   ]
  },
  {
   "cell_type": "code",
   "execution_count": null,
   "id": "0d80678b",
   "metadata": {},
   "outputs": [],
   "source": [
    "add_cum_return_to_df(fb_df, \"FB\")\n",
    "add_cum_return_to_df(amzn_df, \"AMZN\")\n",
    "add_cum_return_to_df(aapl_df, \"AAPL\")\n",
    "add_cum_return_to_df(nflx_df, \"NFLX\")\n",
    "add_cum_return_to_df(goog_df, \"GOOG\")"
   ]
  },
  {
   "cell_type": "markdown",
   "id": "1ac9aecd",
   "metadata": {},
   "source": [
    "**Merge Multiple Stocks in One Dataframe by Column Name**"
   ]
  },
  {
   "cell_type": "code",
   "execution_count": null,
   "id": "d1045074",
   "metadata": {},
   "outputs": [],
   "source": [
    "def merge_df_by_column_name(col_name, sdate, edate, *tickers):\n",
    "    # Will hold data for all dataframes with the same column name\n",
    "    mult_df = pd.DataFrame()\n",
    "    \n",
    "    for x in tickers:\n",
    "        df = get_stock_df_from_csv(x)\n",
    "        \n",
    "        # NEW Check if your dataframe has duplicate indexes\n",
    "        if not df.index.is_unique:\n",
    "            # Delete duplicates \n",
    "            df = df.loc[~df.index.duplicated(), :]\n",
    "        \n",
    "        mask = (df.index >= sdate) & (df.index <= edate)\n",
    "        mult_df[x] = df.loc[mask][col_name]\n",
    "        \n",
    "    return mult_df"
   ]
  },
  {
   "cell_type": "code",
   "execution_count": null,
   "id": "86058b11",
   "metadata": {},
   "outputs": [],
   "source": [
    "mult_df = merge_df_by_column_name('cum_return',  S_DATE, \n",
    "                                  E_DATE, *tickers)\n",
    "mult_df"
   ]
  },
  {
   "cell_type": "code",
   "execution_count": null,
   "id": "f2f7ddf6",
   "metadata": {},
   "outputs": [],
   "source": [
    "# Plot out cumulative returns on $1 in each stock since beginning of 2017\n",
    "fig = px.line(mult_df, x=mult_df.index, y=mult_df.columns)\n",
    "fig.update_xaxes(title=\"Date\", rangeslider_visible=True)\n",
    "fig.update_yaxes(title=\"Price\")\n",
    "fig.update_layout(height=1200, width=1800, \n",
    "                  showlegend=True)\n",
    "fig.show()"
   ]
  },
  {
   "cell_type": "markdown",
   "id": "6039e52c",
   "metadata": {},
   "source": [
    "**Create a Price / Volume Chart**"
   ]
  },
  {
   "cell_type": "code",
   "execution_count": null,
   "id": "3fdb656a",
   "metadata": {},
   "outputs": [],
   "source": [
    "fig = go.Figure()\n",
    "nflx_plot = go.Scatter(x=nflx_df.index, y=nflx_df['Close'], name=\"Netflix\")\n",
    "\n",
    "# Plot price changes\n",
    "fig.add_trace(nflx_plot)\n",
    "\n",
    "# Plot volume as bar graph\n",
    "fig.add_trace(go.Bar(x=nflx_df.index, y=nflx_df['Volume']/200000, name='Volume Traded'))\n",
    "\n",
    "fig.update_xaxes(title=\"Date\", rangeslider_visible=True)\n",
    "fig.update_yaxes(title=\"Price\")\n",
    "fig.update_layout(height=1200, width=1800, \n",
    "                  showlegend=True)\n",
    "fig.show()"
   ]
  },
  {
   "cell_type": "markdown",
   "id": "56ae0d7f",
   "metadata": {},
   "source": [
    "**Adding Bollinger Bands**"
   ]
  },
  {
   "cell_type": "markdown",
   "id": "5019c666",
   "metadata": {},
   "source": [
    "Bollinger Bands plot 2 lines using a moving average and the standard deviation defines how far apart the lines are. They also are used to define if prices are to high or low. When bands tighten it is believed a sharp price move in some direction. Prices tend to bounce off of the bands which provides potential market actions.\n",
    "\n",
    "A strong trend should be noted if the price moves outside the band. If prices go over the resistance line it is in overbought territory and if it breaks through support it is a sign of an oversold position.\n",
    "\n",
    "You normally use 20 sessions when using them."
   ]
  },
  {
   "cell_type": "code",
   "execution_count": null,
   "id": "934aa523",
   "metadata": {},
   "outputs": [],
   "source": [
    "# Here we will add a middle band (20 days), upper band (20 days + 1.96 std),\n",
    "# and lower band (20 days - 1.96 std)"
   ]
  },
  {
   "cell_type": "code",
   "execution_count": null,
   "id": "e2bb9053",
   "metadata": {},
   "outputs": [],
   "source": [
    "# Here we will add a middle band (20 days), upper band (20 days + 1.96 std),\n",
    "# and lower band (20 days - 1.96 std)\n",
    "def add_bollinger_bands(df):\n",
    "    df['middle_band'] = df['Close'].rolling(window=20).mean()\n",
    "    df['upper_band'] = df['middle_band'] + 1.96 * df['Close'].rolling(window=20).std()\n",
    "    df['lower_band'] = df['middle_band'] - 1.96 * df['Close'].rolling(window=20).std()"
   ]
  },
  {
   "cell_type": "code",
   "execution_count": null,
   "id": "d362625d",
   "metadata": {},
   "outputs": [],
   "source": [
    "stk_dfs = [fb_df, amzn_df, aapl_df, nflx_df, goog_df]"
   ]
  },
  {
   "cell_type": "code",
   "execution_count": null,
   "id": "1f43a256",
   "metadata": {},
   "outputs": [],
   "source": [
    "for x in stk_dfs:\n",
    "    add_bollinger_bands(x)"
   ]
  },
  {
   "cell_type": "code",
   "execution_count": null,
   "id": "73298f22",
   "metadata": {},
   "outputs": [],
   "source": [
    "fb_df"
   ]
  },
  {
   "cell_type": "markdown",
   "id": "7583fc75",
   "metadata": {},
   "source": [
    "**Plot with Bollinger Bands**"
   ]
  },
  {
   "cell_type": "code",
   "execution_count": null,
   "id": "f90d42ad",
   "metadata": {},
   "outputs": [],
   "source": [
    "def plot_with_boll_bands(ticker):\n",
    "    save_to_csv_from_yahoo(\"D:/Python for Finance/Wilshire_Stocks/\", ticker)\n",
    "\n",
    "    df = get_stock_df_from_csv(ticker)\n",
    "\n",
    "    add_bollinger_bands(df)\n",
    "    \n",
    "    fig = go.Figure()\n",
    "\n",
    "    candle = go.Candlestick(x=df.index, open=df['Open'],\n",
    "    high=df['High'], low=df['Low'],\n",
    "    close=df['Close'], name=\"Candlestick\")\n",
    "\n",
    "    upper_line = go.Scatter(x=df.index, y=df['upper_band'], \n",
    "    line=dict(color='rgba(250, 0, 0, 0.75)', \n",
    "    width=1), name=\"Upper Band\")\n",
    "\n",
    "    mid_line = go.Scatter(x=df.index, y=df['middle_band'], \n",
    "    line=dict(color='rgba(0, 0, 250, 0.75)', \n",
    "    width=0.7), name=\"Middle Band\")\n",
    "\n",
    "    lower_line = go.Scatter(x=df.index, y=df['lower_band'], \n",
    "    line=dict(color='rgba(0, 250, 0, 0.75)', \n",
    "    width=1), name=\"Lower Band\")\n",
    "\n",
    "    fig.add_trace(candle)\n",
    "    fig.add_trace(upper_line)\n",
    "    fig.add_trace(mid_line)\n",
    "    fig.add_trace(lower_line)\n",
    "\n",
    "    fig.update_xaxes(title=\"Date\", rangeslider_visible=True)\n",
    "    fig.update_yaxes(title=\"Price\")\n",
    "    fig.update_layout(title=ticker + \" Bollinger Bands\", \n",
    "    height=1200, width=1800, showlegend=True)\n",
    "    fig.show()"
   ]
  },
  {
   "cell_type": "code",
   "execution_count": null,
   "id": "a1790226",
   "metadata": {},
   "outputs": [],
   "source": [
    "plot_with_boll_bands(\"AMD\")"
   ]
  },
  {
   "cell_type": "markdown",
   "id": "182ebec9",
   "metadata": {},
   "source": [
    "**Support & Resistance**"
   ]
  },
  {
   "cell_type": "markdown",
   "id": "2e548bd9",
   "metadata": {},
   "source": [
    "We normally use multiple moving averages to develop our support and resistance lines. 50 day for medium, 100 for long and 200 for very long terms are commonly used."
   ]
  },
  {
   "cell_type": "markdown",
   "id": "5c4acb94",
   "metadata": {},
   "source": [
    "**Download S&P Data for 5 years**"
   ]
  },
  {
   "cell_type": "code",
   "execution_count": null,
   "id": "1786a610",
   "metadata": {},
   "outputs": [],
   "source": [
    "save_to_csv_from_yahoo(PATH, \"^GSPC\")\n",
    "gspc_df = get_stock_df_from_csv(\"^GSPC\")\n",
    "gspc_df"
   ]
  },
  {
   "cell_type": "markdown",
   "id": "bd1c9ebe",
   "metadata": {},
   "source": [
    "**Calculate Moving Averages**"
   ]
  },
  {
   "cell_type": "markdown",
   "id": "b242ce6c",
   "metadata": {},
   "source": [
    "Moving averages are used to mitigate short term flucuations in a stock price. We create them by calculating the mean of a set of prices over a specified number of time periods. The Simple moving average (SMA) is just a simple mean. An Exponential Moving Average (EMA) is a weighted average that put more emphasis on more recent data."
   ]
  },
  {
   "cell_type": "code",
   "execution_count": null,
   "id": "e0b67157",
   "metadata": {},
   "outputs": [],
   "source": [
    "# SMA\n",
    "gspc_df['MA50'] = gspc_df['Close'].rolling(50).mean()\n",
    "gspc_df['MA100'] = gspc_df['Close'].rolling(100).mean()\n",
    "\n",
    "# EMA If we set adjust to False the weighted function is calculated recursively\n",
    "gspc_df['EMA20'] = gspc_df['Close'].ewm(span=20, adjust=False).mean()\n",
    "gspc_df['EMA50'] = gspc_df['Close'].ewm(span=50, adjust=False).mean()\n",
    "gspc_df['EMA100'] = gspc_df['Close'].ewm(span=100, adjust=False).mean()\n",
    "\n",
    "gspc_df"
   ]
  },
  {
   "cell_type": "markdown",
   "id": "e3a187e8",
   "metadata": {},
   "source": [
    "**Plotting Moving Averages**"
   ]
  },
  {
   "cell_type": "code",
   "execution_count": null,
   "id": "2da8eafd",
   "metadata": {},
   "outputs": [],
   "source": [
    "fig = go.Figure()\n",
    "\n",
    "candle = go.Candlestick(x=gspc_df.index, open=gspc_df['Open'],\n",
    "    high=gspc_df['High'], low=gspc_df['Low'],\n",
    "    close=gspc_df['Close'], name=\"Candlestick\")\n",
    "\n",
    "ema50_line = go.Scatter(x=gspc_df.index, y=gspc_df['EMA50'], \n",
    "    line=dict(color='rgba(250, 0, 0, 0.75)', \n",
    "    width=1), name=\"EMA50\")\n",
    "\n",
    "ema100_line = go.Scatter(x=gspc_df.index, y=gspc_df['EMA100'], \n",
    "    line=dict(color='rgba(0, 250, 0, 0.75)', \n",
    "    width=1), name=\"EMA100\")\n",
    "\n",
    "fig.add_trace(candle)\n",
    "# 1st support line\n",
    "fig.add_trace(ema50_line)\n",
    "# 2nd support line\n",
    "fig.add_trace(ema100_line)\n",
    "\n",
    "fig.show()\n",
    "\n",
    "# What we see with the support line is that if we hit it the market bounces back. When candles are green that means we have more buyers than sellers and vice versa.\n",
    "# Support levels are good indicators and the market normally only breaks support when an event occurs that is external to the market."
   ]
  },
  {
   "cell_type": "markdown",
   "id": "cbdd43d5",
   "metadata": {},
   "source": [
    "**Analyzing Bitcoin**"
   ]
  },
  {
   "cell_type": "code",
   "execution_count": null,
   "id": "1414cda8",
   "metadata": {},
   "outputs": [],
   "source": [
    "btc_df = yf.download(tickers='BTC-USD', period='3d', interval='15m')\n",
    "btc_df"
   ]
  },
  {
   "cell_type": "code",
   "execution_count": null,
   "id": "d57b0686",
   "metadata": {},
   "outputs": [],
   "source": [
    "# We'll create a short term moving average using 5 periods\n",
    "# and another using 20 periods\n",
    "# When the longterm MA goes above the short term that is a sell sign\n",
    "# and vice versa\n",
    "btc_df['MA5'] = btc_df['Close'].rolling(5).mean()\n",
    "btc_df['MA20'] = btc_df['Close'].rolling(20).mean()"
   ]
  },
  {
   "cell_type": "markdown",
   "id": "c4e6f0a8",
   "metadata": {},
   "source": [
    "**Plot**"
   ]
  },
  {
   "cell_type": "code",
   "execution_count": null,
   "id": "77b34010",
   "metadata": {},
   "outputs": [],
   "source": [
    "fig = go.Figure()\n",
    "\n",
    "candle = go.Candlestick(x=btc_df.index, open=btc_df['Open'],\n",
    "    high=btc_df['High'], low=btc_df['Low'],\n",
    "    close=btc_df['Close'], name=\"Candlestick\")\n",
    "\n",
    "ma5_line = go.Scatter(x=btc_df.index, y=btc_df['MA5'], \n",
    "    line=dict(color='rgba(255,165,0, 0.75)', \n",
    "    width=1), name=\"MA5\")\n",
    "\n",
    "ma20_line = go.Scatter(x=btc_df.index, y=btc_df['MA20'], \n",
    "    line=dict(color='rgba(0, 0, 250, 0.75)', \n",
    "    width=1), name=\"MA20\")\n",
    "\n",
    "fig.add_trace(candle)\n",
    "fig.add_trace(ma5_line)\n",
    "fig.add_trace(ma20_line)\n",
    "\n",
    "fig.show()\n",
    "\n",
    "# When the MA20 (Blue) crosses above the MA5 (Orange) that is a Death Cross (Sell)\n",
    "# When the MA5 (Orange) crosses above the MA20 (Blue)that is a Golden Cross (Buy)"
   ]
  },
  {
   "cell_type": "markdown",
   "id": "6abbb5bd",
   "metadata": {},
   "source": [
    "**Longterm Bitcoin**"
   ]
  },
  {
   "cell_type": "code",
   "execution_count": null,
   "id": "3bea4f05",
   "metadata": {},
   "outputs": [],
   "source": [
    "btcl_df = yf.download(tickers='BTC-USD', period='3mo', interval='1d')\n",
    "btcl_df"
   ]
  },
  {
   "cell_type": "code",
   "execution_count": null,
   "id": "0840f38d",
   "metadata": {},
   "outputs": [],
   "source": [
    "btcl_df['MA5'] = btcl_df['Close'].rolling(5).mean()\n",
    "btcl_df['MA20'] = btcl_df['Close'].rolling(20).mean()"
   ]
  },
  {
   "cell_type": "code",
   "execution_count": null,
   "id": "4e64ca5c",
   "metadata": {},
   "outputs": [],
   "source": [
    "fig = go.Figure()\n",
    "\n",
    "candle = go.Candlestick(x=btcl_df.index, open=btcl_df['Open'],\n",
    "    high=btcl_df['High'], low=btcl_df['Low'],\n",
    "    close=btcl_df['Close'], name=\"Candlestick\")\n",
    "\n",
    "ma5_line = go.Scatter(x=btcl_df.index, y=btcl_df['MA5'], \n",
    "    line=dict(color='rgba(255,165,0, 0.75)', \n",
    "    width=1), name=\"MA5\")\n",
    "\n",
    "ma20_line = go.Scatter(x=btcl_df.index, y=btcl_df['MA20'], \n",
    "    line=dict(color='rgba(0, 0, 250, 0.75)', \n",
    "    width=1), name=\"MA20\")\n",
    "\n",
    "fig.add_trace(candle)\n",
    "fig.add_trace(ma5_line)\n",
    "fig.add_trace(ma20_line)\n",
    "\n",
    "fig.show()\n",
    "\n",
    "# We see here that we are in a down trend long term"
   ]
  },
  {
   "cell_type": "markdown",
   "id": "dd6ccdb4",
   "metadata": {},
   "source": [
    "**Short Term Plot Function**"
   ]
  },
  {
   "cell_type": "code",
   "execution_count": null,
   "id": "bb4e80a4",
   "metadata": {},
   "outputs": [],
   "source": [
    "def get_short_ma(ticker):\n",
    "    df = yf.download(tickers=ticker, period='3d', interval='15m')\n",
    "    df['MA5'] = df['Close'].rolling(5).mean()\n",
    "    df['MA20'] = df['Close'].rolling(20).mean()\n",
    "    fig = go.Figure()\n",
    "\n",
    "    candle = go.Candlestick(x=df.index, open=df['Open'],\n",
    "        high=df['High'], low=df['Low'],\n",
    "        close=df['Close'], name=\"Candlestick\")\n",
    "\n",
    "    ma5_line = go.Scatter(x=df.index, y=df['MA5'], \n",
    "    line=dict(color='rgba(255,165,0, 0.75)', \n",
    "    width=1), name=\"MA5\")\n",
    "\n",
    "    ma20_line = go.Scatter(x=df.index, y=df['MA20'], \n",
    "    line=dict(color='rgba(0, 0, 250, 0.75)', \n",
    "    width=1), name=\"MA20\")\n",
    "\n",
    "    fig.add_trace(candle)\n",
    "    fig.add_trace(ma5_line)\n",
    "    fig.add_trace(ma20_line)\n",
    "\n",
    "    fig.show()"
   ]
  },
  {
   "cell_type": "markdown",
   "id": "e446d24d",
   "metadata": {},
   "source": [
    "**Long Term Plot Function**"
   ]
  },
  {
   "cell_type": "code",
   "execution_count": null,
   "id": "97f5c2b7",
   "metadata": {},
   "outputs": [],
   "source": [
    "def get_long_ma(ticker):\n",
    "    df = yf.download(tickers=ticker, period='3mo', interval='1d')\n",
    "    df['MA5'] = df['Close'].rolling(5).mean()\n",
    "    df['MA20'] = df['Close'].rolling(20).mean()\n",
    "    fig = go.Figure()\n",
    "\n",
    "    candle = go.Candlestick(x=df.index, open=df['Open'],\n",
    "        high=df['High'], low=df['Low'],\n",
    "        close=df['Close'], name=\"Candlestick\")\n",
    "\n",
    "    ma5_line = go.Scatter(x=df.index, y=df['MA5'], \n",
    "    line=dict(color='rgba(255,165,0, 0.75)', \n",
    "    width=1), name=\"MA5\")\n",
    "\n",
    "    ma20_line = go.Scatter(x=df.index, y=df['MA20'], \n",
    "    line=dict(color='rgba(0, 0, 250, 0.75)', \n",
    "    width=1), name=\"MA20\")\n",
    "\n",
    "    fig.add_trace(candle)\n",
    "    fig.add_trace(ma5_line)\n",
    "    fig.add_trace(ma20_line)\n",
    "\n",
    "    fig.show()"
   ]
  },
  {
   "cell_type": "markdown",
   "id": "b222d6ac",
   "metadata": {},
   "source": [
    "**Long Term Ethereum Plot**"
   ]
  },
  {
   "cell_type": "code",
   "execution_count": null,
   "id": "6c77a4e5",
   "metadata": {},
   "outputs": [],
   "source": [
    "get_long_ma('ETH-USD')"
   ]
  },
  {
   "cell_type": "markdown",
   "id": "e39ae580",
   "metadata": {},
   "source": [
    "**Short Term Ethereum Plot**"
   ]
  },
  {
   "cell_type": "code",
   "execution_count": null,
   "id": "7911ab7c",
   "metadata": {},
   "outputs": [],
   "source": [
    "get_short_ma('ETH-USD')"
   ]
  },
  {
   "cell_type": "markdown",
   "id": "cd5fc684",
   "metadata": {},
   "source": [
    "**Long Term Litecoin**"
   ]
  },
  {
   "cell_type": "code",
   "execution_count": null,
   "id": "fa244749",
   "metadata": {},
   "outputs": [],
   "source": [
    "get_long_ma('LTC-USD')"
   ]
  },
  {
   "cell_type": "markdown",
   "id": "5162ce86",
   "metadata": {},
   "source": [
    "**Long Term Cardano**"
   ]
  },
  {
   "cell_type": "code",
   "execution_count": null,
   "id": "5d1e57f8",
   "metadata": {},
   "outputs": [],
   "source": [
    "get_long_ma('ADA-USD')"
   ]
  }
 ],
 "metadata": {
  "kernelspec": {
   "display_name": "Python 3 (ipykernel)",
   "language": "python",
   "name": "python3"
  },
  "language_info": {
   "codemirror_mode": {
    "name": "ipython",
    "version": 3
   },
   "file_extension": ".py",
   "mimetype": "text/x-python",
   "name": "python",
   "nbconvert_exporter": "python",
   "pygments_lexer": "ipython3",
   "version": "3.8.12"
  },
  "toc": {
   "base_numbering": 1,
   "nav_menu": {},
   "number_sections": true,
   "sideBar": true,
   "skip_h1_title": false,
   "title_cell": "Table of Contents",
   "title_sidebar": "Contents",
   "toc_cell": false,
   "toc_position": {},
   "toc_section_display": true,
   "toc_window_display": false
  }
 },
 "nbformat": 4,
 "nbformat_minor": 5
}
