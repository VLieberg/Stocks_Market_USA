{
 "cells": [
  {
   "cell_type": "markdown",
   "id": "2bc63484",
   "metadata": {},
   "source": [
    "**Low Risk Investments by Sector**"
   ]
  },
  {
   "cell_type": "code",
   "execution_count": 1,
   "id": "b854a3af",
   "metadata": {},
   "outputs": [],
   "source": [
    "# Provides ways to work with large multidimensional arrays\n",
    "import numpy as np \n",
    "# Allows for further data manipulation and analysis\n",
    "import pandas as pd\n",
    "from pandas_datareader import data as web # Reads stock data \n",
    "import matplotlib.pyplot as plt # Plotting\n",
    "import matplotlib.dates as mdates # Styling dates\n",
    "%matplotlib inline\n",
    "\n",
    "import datetime as dt # For defining dates\n",
    "import mplfinance as mpf # Matplotlib finance\n",
    "\n",
    "import time\n",
    "\n",
    "# Used to get data from a directory\n",
    "import os\n",
    "from os import listdir\n",
    "from os.path import isfile, join"
   ]
  },
  {
   "cell_type": "markdown",
   "id": "745f2a7d",
   "metadata": {},
   "source": [
    "**Dates & Other Constants**"
   ]
  },
  {
   "cell_type": "code",
   "execution_count": 2,
   "id": "28a746b5",
   "metadata": {},
   "outputs": [],
   "source": [
    "# Define path to files\n",
    "\n",
    "PATH = \"../raw_data/data_stocks/\"\n",
    "\n",
    "# Start date defaults\n",
    "S_YEAR = 2019\n",
    "S_MONTH = 1\n",
    "S_DAY = 3\n",
    "S_DATE_STR = \"2019-01-03\"\n",
    "S_DATE_DATETIME = dt.datetime(S_YEAR, S_MONTH, S_DAY)\n",
    "\n",
    "# End date defaults\n",
    "E_YEAR = 2022\n",
    "E_MONTH = 4\n",
    "E_DAY = 5\n",
    "E_DATE_STR = \"2022-04-05\"\n",
    "E_DATE_DATETIME = dt.datetime(E_YEAR, E_MONTH, E_DAY)\n"
   ]
  },
  {
   "cell_type": "markdown",
   "id": "32817b34",
   "metadata": {},
   "source": [
    "**Get Stock File Names in a List**"
   ]
  },
  {
   "cell_type": "code",
   "execution_count": 3,
   "id": "0b537fd2",
   "metadata": {},
   "outputs": [],
   "source": [
    "files = [x for x in listdir(PATH) if isfile(join(PATH, x))]\n",
    "tickers = [os.path.splitext(x)[0] for x in files]\n",
    "tickers\n",
    "\n",
    "# On MacOS Only\n",
    "#tickers.remove('.DS_Store')\n",
    "tickers.sort()"
   ]
  },
  {
   "cell_type": "code",
   "execution_count": 4,
   "id": "0ed56a56",
   "metadata": {},
   "outputs": [
    {
     "data": {
      "text/plain": [
       "2896"
      ]
     },
     "execution_count": 4,
     "metadata": {},
     "output_type": "execute_result"
    }
   ],
   "source": [
    "len(tickers)"
   ]
  },
  {
   "cell_type": "markdown",
   "id": "bd170579",
   "metadata": {},
   "source": [
    "Function that Returns a Dataframe from a CSV"
   ]
  },
  {
   "cell_type": "code",
   "execution_count": 5,
   "id": "0e0f24bf",
   "metadata": {},
   "outputs": [],
   "source": [
    "def get_df_from_csv(ticker):\n",
    "    try:\n",
    "        df = pd.read_csv(PATH + ticker + '.csv')\n",
    "    except FileNotFoundError:\n",
    "        pass\n",
    "        # print(\"File Doesn't Exist\")\n",
    "    else:\n",
    "        return df"
   ]
  },
  {
   "cell_type": "markdown",
   "id": "f555a91c",
   "metadata": {},
   "source": [
    "Function that Saves Dataframe to CSV"
   ]
  },
  {
   "cell_type": "code",
   "execution_count": 6,
   "id": "036f6338",
   "metadata": {},
   "outputs": [],
   "source": [
    "def save_dataframe_to_csv(df, ticker):\n",
    "    df.to_csv(PATH + ticker + '.csv')"
   ]
  },
  {
   "cell_type": "markdown",
   "id": "83f17601",
   "metadata": {},
   "source": [
    "Return 1st Valid Date in Dataframe"
   ]
  },
  {
   "cell_type": "code",
   "execution_count": 7,
   "id": "cc64ab6b",
   "metadata": {},
   "outputs": [],
   "source": [
    "def get_valid_dates(df, sdate, edate):  \n",
    "    try:\n",
    "        mask = (df['Date'] > sdate) & (df['Date'] <= edate) \n",
    "        sm_df = df.loc[mask]\n",
    "        sm_df = sm_df.set_index(['Date'])\n",
    "        sm_date = sm_df.index.min()\n",
    "        last_date = sm_df.index.max()\n",
    "        date_leading = '-'.join(('0' if len(x)<2 else '')+x for x in sm_date.split('-'))\n",
    "        date_ending = '-'.join(('0' if len(x)<2 else '')+x for x in last_date.split('-'))\n",
    "    except Exception:\n",
    "        print(\"Date Corrupted\")\n",
    "    else:\n",
    "        return date_leading, date_ending"
   ]
  },
  {
   "cell_type": "markdown",
   "id": "47a96793",
   "metadata": {},
   "source": [
    "Returns Return on Investment over Time"
   ]
  },
  {
   "cell_type": "code",
   "execution_count": 8,
   "id": "734ce511",
   "metadata": {},
   "outputs": [],
   "source": [
    "def roi_between_dates(df, sdate, edate):\n",
    "    try: \n",
    "        start_val = df.loc[sdate,'Adj Close'] \n",
    "        end_val = df.loc[edate,'Adj Close']\n",
    "        roi = ((end_val - start_val) / start_val)\n",
    "    except Exception:\n",
    "        print(\"Data Corrupted\")\n",
    "    else:\n",
    "        return roi"
   ]
  },
  {
   "cell_type": "markdown",
   "id": "68b15846",
   "metadata": {},
   "source": [
    "Get Mean Between Dates"
   ]
  },
  {
   "cell_type": "code",
   "execution_count": 9,
   "id": "9e80644f",
   "metadata": {},
   "outputs": [],
   "source": [
    "def get_mean_between_dates(df, sdate, edate):\n",
    "    mask = (df['Date'] > sdate) & (df['Date'] <= edate)\n",
    "    return df.loc[mask][\"Adj Close\"].mean()"
   ]
  },
  {
   "cell_type": "markdown",
   "id": "17df20b2",
   "metadata": {},
   "source": [
    "Get Standard Deviation Between Dates"
   ]
  },
  {
   "cell_type": "code",
   "execution_count": 10,
   "id": "a9f232f0",
   "metadata": {},
   "outputs": [],
   "source": [
    "def get_sd_between_dates(df, sdate, edate):\n",
    "    mask = (df['Date'] > sdate) & (df['Date'] <= edate)\n",
    "    return df.loc[mask][\"Adj Close\"].std()"
   ]
  },
  {
   "cell_type": "markdown",
   "id": "fe654a8d",
   "metadata": {},
   "source": [
    "Get Coefficient of Variation Between Dates"
   ]
  },
  {
   "cell_type": "code",
   "execution_count": 11,
   "id": "ee83256e",
   "metadata": {},
   "outputs": [],
   "source": [
    "def get_cov_between_dates(df, sdate, edate):\n",
    "    mean = get_mean_between_dates(df, sdate, edate)\n",
    "    sd = get_sd_between_dates(df, sdate, edate)\n",
    "    return sd / mean"
   ]
  },
  {
   "cell_type": "markdown",
   "id": "8da710e2",
   "metadata": {},
   "source": [
    "Merge Multiple Stocks in One Dataframe by Column Name"
   ]
  },
  {
   "cell_type": "code",
   "execution_count": 12,
   "id": "77638163",
   "metadata": {},
   "outputs": [],
   "source": [
    "def merge_df_by_column_name(col_name, sdate, edate, *tickers):\n",
    "    # Will hold data for all dataframes with the same column name\n",
    "    mult_df = pd.DataFrame()\n",
    "    \n",
    "    for x in tickers:\n",
    "        df = get_df_from_csv(x)\n",
    "        df['Date'] = pd.to_datetime(df['Date'])\n",
    "        # Use a mask to grab data between defined dates\n",
    "        mask = (df['Date'] >= sdate) & (df['Date'] <= edate)\n",
    "        mult_df[x] = df.loc[mask][col_name]\n",
    "        \n",
    "    return mult_df"
   ]
  },
  {
   "cell_type": "markdown",
   "id": "5345cc79",
   "metadata": {},
   "source": [
    "11 Stock Market Sectors"
   ]
  },
  {
   "cell_type": "markdown",
   "id": "6746fe04",
   "metadata": {},
   "source": [
    "**Technology :** Manufacturing of electronics, software, or related to information technology\n",
    "\n",
    "**Health Care :** Biotech, hospitals, medical devices, drugs\n",
    "\n",
    "**Financials :** Banks, investment funds, and insurance\n",
    "\n",
    "**Real Estate :** Residential, industrial, and retail real estate\n",
    "\n",
    "**Energy :** Production and supply of energy\n",
    "\n",
    "**Materials :** Mining, refining, chemical, and forestry\n",
    "\n",
    "**Consumer Discretionary :** Retailers, apparel, media, durables and services\n",
    "\n",
    "**Industrials :** Construction, machinery, fabrication, manufacturing, defense, and aerospace\n",
    "\n",
    "**Utilities :**  Direct providers of electric, gas, and water\n",
    "\n",
    "**Consumer Staples :** Food, beverage as well as products consumers deem essential\n",
    "\n",
    "**Telecommunication :** Cable, internet providers, wireless, and satellite"
   ]
  },
  {
   "cell_type": "markdown",
   "id": "dfdfc480",
   "metadata": {},
   "source": [
    "Get Sector Stocks"
   ]
  },
  {
   "cell_type": "code",
   "execution_count": 13,
   "id": "801aa563",
   "metadata": {},
   "outputs": [],
   "source": [
    "# For Mac\n",
    "sec_df = pd.read_csv('../raw_data/stocks_ticker/stock_sectors.csv')\n",
    "sec_df\n",
    "\n",
    "# Get Industrials DF\n",
    "indus_df = sec_df.loc[sec_df['Sector'] == \"Industrials\"]\n",
    "health_df = sec_df.loc[sec_df['Sector'] == \"Health Care\"]\n",
    "it_df = sec_df.loc[sec_df['Sector'] == \"Information Technology\"]\n",
    "comm_df = sec_df.loc[sec_df['Sector'] == \"Communication Services\"]\n",
    "staple_df = sec_df.loc[sec_df['Sector'] == \"Consumer Staples\"]\n",
    "discretion_df = sec_df.loc[sec_df['Sector'] == \"Consumer Discretionary\"]\n",
    "utility_df = sec_df.loc[sec_df['Sector'] == \"Utilities\"]\n",
    "financial_df = sec_df.loc[sec_df['Sector'] == \"Financials\"]\n",
    "material_df = sec_df.loc[sec_df['Sector'] == \"Materials\"]\n",
    "restate_df = sec_df.loc[sec_df['Sector'] == \"Real Estate\"]\n",
    "energy_df = sec_df.loc[sec_df['Sector'] == \"Energy\"]"
   ]
  },
  {
   "cell_type": "markdown",
   "id": "672e0399",
   "metadata": {},
   "source": [
    "Returns a DF with ROIs for all Stocks"
   ]
  },
  {
   "cell_type": "code",
   "execution_count": 14,
   "id": "8fa0aac3",
   "metadata": {},
   "outputs": [],
   "source": [
    "def get_rois_for_stocks(stock_df):\n",
    "    # Will hold all tickers & stock rois\n",
    "    tickers = []\n",
    "    rois = []\n",
    "\n",
    "    # iterrows provides the index and column for each row in the DF\n",
    "    for index, row in stock_df.iterrows():\n",
    "        df = get_df_from_csv(row['Symbol'])\n",
    "    \n",
    "        # If we can't find the ticker delete it from the dataframe\n",
    "        if df is None:\n",
    "            pass\n",
    "            # print(row['Symbol'], \" is not available\")\n",
    "        else:\n",
    "            tickers.append(row['Symbol'])\n",
    "            sdate, edate = get_valid_dates(df, '2018-01-01', '2020-12-31')\n",
    "            df = df.set_index(['Date'])\n",
    "            roi = roi_between_dates(df, sdate, edate)\n",
    "            rois.append(roi)\n",
    "    return pd.DataFrame({'Ticker':tickers, 'ROI':rois})"
   ]
  },
  {
   "cell_type": "code",
   "execution_count": 15,
   "id": "daa3b37a",
   "metadata": {},
   "outputs": [],
   "source": [
    "industrial = get_rois_for_stocks(indus_df)\n",
    "health_care = get_rois_for_stocks(health_df)\n",
    "it = get_rois_for_stocks(it_df)\n",
    "commun = get_rois_for_stocks(comm_df)\n",
    "staple = get_rois_for_stocks(staple_df)\n",
    "discretion = get_rois_for_stocks(discretion_df)\n",
    "utility = get_rois_for_stocks(utility_df)\n",
    "finance = get_rois_for_stocks(financial_df)\n",
    "material = get_rois_for_stocks(material_df)\n",
    "restate = get_rois_for_stocks(restate_df)\n",
    "energy = get_rois_for_stocks(energy_df)"
   ]
  },
  {
   "cell_type": "markdown",
   "id": "4265ea66",
   "metadata": {},
   "source": [
    "Top Industrials"
   ]
  },
  {
   "cell_type": "code",
   "execution_count": 16,
   "id": "47fb122f",
   "metadata": {},
   "outputs": [
    {
     "data": {
      "text/html": [
       "<div>\n",
       "<style scoped>\n",
       "    .dataframe tbody tr th:only-of-type {\n",
       "        vertical-align: middle;\n",
       "    }\n",
       "\n",
       "    .dataframe tbody tr th {\n",
       "        vertical-align: top;\n",
       "    }\n",
       "\n",
       "    .dataframe thead th {\n",
       "        text-align: right;\n",
       "    }\n",
       "</style>\n",
       "<table border=\"1\" class=\"dataframe\">\n",
       "  <thead>\n",
       "    <tr style=\"text-align: right;\">\n",
       "      <th></th>\n",
       "      <th>Ticker</th>\n",
       "      <th>ROI</th>\n",
       "    </tr>\n",
       "  </thead>\n",
       "  <tbody>\n",
       "    <tr>\n",
       "      <th>24</th>\n",
       "      <td>GNRC</td>\n",
       "      <td>3.459894</td>\n",
       "    </tr>\n",
       "    <tr>\n",
       "      <th>16</th>\n",
       "      <td>ETN</td>\n",
       "      <td>2.113822</td>\n",
       "    </tr>\n",
       "    <tr>\n",
       "      <th>10</th>\n",
       "      <td>CPRT</td>\n",
       "      <td>1.668834</td>\n",
       "    </tr>\n",
       "    <tr>\n",
       "      <th>44</th>\n",
       "      <td>PWR</td>\n",
       "      <td>1.429004</td>\n",
       "    </tr>\n",
       "    <tr>\n",
       "      <th>40</th>\n",
       "      <td>ODFL</td>\n",
       "      <td>1.390986</td>\n",
       "    </tr>\n",
       "  </tbody>\n",
       "</table>\n",
       "</div>"
      ],
      "text/plain": [
       "   Ticker       ROI\n",
       "24   GNRC  3.459894\n",
       "16    ETN  2.113822\n",
       "10   CPRT  1.668834\n",
       "44    PWR  1.429004\n",
       "40   ODFL  1.390986"
      ]
     },
     "execution_count": 16,
     "metadata": {},
     "output_type": "execute_result"
    }
   ],
   "source": [
    "industrial.sort_values(by=['ROI'], ascending=False).head(5)"
   ]
  },
  {
   "cell_type": "markdown",
   "id": "f336ea60",
   "metadata": {},
   "source": [
    "Top Healthcare"
   ]
  },
  {
   "cell_type": "code",
   "execution_count": 17,
   "id": "b1d9a0fa",
   "metadata": {},
   "outputs": [
    {
     "data": {
      "text/html": [
       "<div>\n",
       "<style scoped>\n",
       "    .dataframe tbody tr th:only-of-type {\n",
       "        vertical-align: middle;\n",
       "    }\n",
       "\n",
       "    .dataframe tbody tr th {\n",
       "        vertical-align: top;\n",
       "    }\n",
       "\n",
       "    .dataframe thead th {\n",
       "        text-align: right;\n",
       "    }\n",
       "</style>\n",
       "<table border=\"1\" class=\"dataframe\">\n",
       "  <thead>\n",
       "    <tr style=\"text-align: right;\">\n",
       "      <th></th>\n",
       "      <th>Ticker</th>\n",
       "      <th>ROI</th>\n",
       "    </tr>\n",
       "  </thead>\n",
       "  <tbody>\n",
       "    <tr>\n",
       "      <th>16</th>\n",
       "      <td>CTLT</td>\n",
       "      <td>2.366872</td>\n",
       "    </tr>\n",
       "    <tr>\n",
       "      <th>25</th>\n",
       "      <td>DXCM</td>\n",
       "      <td>2.209932</td>\n",
       "    </tr>\n",
       "    <tr>\n",
       "      <th>59</th>\n",
       "      <td>WST</td>\n",
       "      <td>1.962799</td>\n",
       "    </tr>\n",
       "    <tr>\n",
       "      <th>33</th>\n",
       "      <td>IDXX</td>\n",
       "      <td>1.739614</td>\n",
       "    </tr>\n",
       "    <tr>\n",
       "      <th>4</th>\n",
       "      <td>ALGN</td>\n",
       "      <td>1.643875</td>\n",
       "    </tr>\n",
       "  </tbody>\n",
       "</table>\n",
       "</div>"
      ],
      "text/plain": [
       "   Ticker       ROI\n",
       "16   CTLT  2.366872\n",
       "25   DXCM  2.209932\n",
       "59    WST  1.962799\n",
       "33   IDXX  1.739614\n",
       "4    ALGN  1.643875"
      ]
     },
     "execution_count": 17,
     "metadata": {},
     "output_type": "execute_result"
    }
   ],
   "source": [
    "health_care.sort_values(by=['ROI'], ascending=False).head(5)"
   ]
  },
  {
   "cell_type": "markdown",
   "id": "d17b2fb8",
   "metadata": {},
   "source": [
    "Top Communications"
   ]
  },
  {
   "cell_type": "code",
   "execution_count": 18,
   "id": "7cb55019",
   "metadata": {},
   "outputs": [
    {
     "data": {
      "text/html": [
       "<div>\n",
       "<style scoped>\n",
       "    .dataframe tbody tr th:only-of-type {\n",
       "        vertical-align: middle;\n",
       "    }\n",
       "\n",
       "    .dataframe tbody tr th {\n",
       "        vertical-align: top;\n",
       "    }\n",
       "\n",
       "    .dataframe thead th {\n",
       "        text-align: right;\n",
       "    }\n",
       "</style>\n",
       "<table border=\"1\" class=\"dataframe\">\n",
       "  <thead>\n",
       "    <tr style=\"text-align: right;\">\n",
       "      <th></th>\n",
       "      <th>Ticker</th>\n",
       "      <th>ROI</th>\n",
       "    </tr>\n",
       "  </thead>\n",
       "  <tbody>\n",
       "    <tr>\n",
       "      <th>4</th>\n",
       "      <td>CHTR</td>\n",
       "      <td>1.297128</td>\n",
       "    </tr>\n",
       "    <tr>\n",
       "      <th>19</th>\n",
       "      <td>TMUS</td>\n",
       "      <td>1.066350</td>\n",
       "    </tr>\n",
       "    <tr>\n",
       "      <th>15</th>\n",
       "      <td>NFLX</td>\n",
       "      <td>1.020212</td>\n",
       "    </tr>\n",
       "    <tr>\n",
       "      <th>10</th>\n",
       "      <td>FB</td>\n",
       "      <td>1.013267</td>\n",
       "    </tr>\n",
       "    <tr>\n",
       "      <th>0</th>\n",
       "      <td>ATVI</td>\n",
       "      <td>1.003220</td>\n",
       "    </tr>\n",
       "    <tr>\n",
       "      <th>20</th>\n",
       "      <td>TTWO</td>\n",
       "      <td>0.997789</td>\n",
       "    </tr>\n",
       "    <tr>\n",
       "      <th>22</th>\n",
       "      <td>TWTR</td>\n",
       "      <td>0.879556</td>\n",
       "    </tr>\n",
       "    <tr>\n",
       "      <th>9</th>\n",
       "      <td>EA</td>\n",
       "      <td>0.789117</td>\n",
       "    </tr>\n",
       "    <tr>\n",
       "      <th>21</th>\n",
       "      <td>DIS</td>\n",
       "      <td>0.682979</td>\n",
       "    </tr>\n",
       "    <tr>\n",
       "      <th>2</th>\n",
       "      <td>GOOG</td>\n",
       "      <td>0.675078</td>\n",
       "    </tr>\n",
       "  </tbody>\n",
       "</table>\n",
       "</div>"
      ],
      "text/plain": [
       "   Ticker       ROI\n",
       "4    CHTR  1.297128\n",
       "19   TMUS  1.066350\n",
       "15   NFLX  1.020212\n",
       "10     FB  1.013267\n",
       "0    ATVI  1.003220\n",
       "20   TTWO  0.997789\n",
       "22   TWTR  0.879556\n",
       "9      EA  0.789117\n",
       "21    DIS  0.682979\n",
       "2    GOOG  0.675078"
      ]
     },
     "execution_count": 18,
     "metadata": {},
     "output_type": "execute_result"
    }
   ],
   "source": [
    "commun.sort_values(by=['ROI'], ascending=False).head(10)"
   ]
  },
  {
   "cell_type": "markdown",
   "id": "e918b550",
   "metadata": {},
   "source": [
    "Top Staples"
   ]
  },
  {
   "cell_type": "code",
   "execution_count": 19,
   "id": "2cb62d17",
   "metadata": {},
   "outputs": [
    {
     "data": {
      "text/html": [
       "<div>\n",
       "<style scoped>\n",
       "    .dataframe tbody tr th:only-of-type {\n",
       "        vertical-align: middle;\n",
       "    }\n",
       "\n",
       "    .dataframe tbody tr th {\n",
       "        vertical-align: top;\n",
       "    }\n",
       "\n",
       "    .dataframe thead th {\n",
       "        text-align: right;\n",
       "    }\n",
       "</style>\n",
       "<table border=\"1\" class=\"dataframe\">\n",
       "  <thead>\n",
       "    <tr style=\"text-align: right;\">\n",
       "      <th></th>\n",
       "      <th>Ticker</th>\n",
       "      <th>ROI</th>\n",
       "    </tr>\n",
       "  </thead>\n",
       "  <tbody>\n",
       "    <tr>\n",
       "      <th>10</th>\n",
       "      <td>EL</td>\n",
       "      <td>1.051833</td>\n",
       "    </tr>\n",
       "    <tr>\n",
       "      <th>9</th>\n",
       "      <td>COST</td>\n",
       "      <td>0.923046</td>\n",
       "    </tr>\n",
       "    <tr>\n",
       "      <th>22</th>\n",
       "      <td>MNST</td>\n",
       "      <td>0.896637</td>\n",
       "    </tr>\n",
       "    <tr>\n",
       "      <th>7</th>\n",
       "      <td>CAG</td>\n",
       "      <td>0.801374</td>\n",
       "    </tr>\n",
       "    <tr>\n",
       "      <th>11</th>\n",
       "      <td>GIS</td>\n",
       "      <td>0.647461</td>\n",
       "    </tr>\n",
       "  </tbody>\n",
       "</table>\n",
       "</div>"
      ],
      "text/plain": [
       "   Ticker       ROI\n",
       "10     EL  1.051833\n",
       "9    COST  0.923046\n",
       "22   MNST  0.896637\n",
       "7     CAG  0.801374\n",
       "11    GIS  0.647461"
      ]
     },
     "execution_count": 19,
     "metadata": {},
     "output_type": "execute_result"
    }
   ],
   "source": [
    "staple.sort_values(by=['ROI'], ascending=False).head(5)"
   ]
  },
  {
   "cell_type": "markdown",
   "id": "34f1c3d0",
   "metadata": {},
   "source": [
    "Top Discretionary"
   ]
  },
  {
   "cell_type": "code",
   "execution_count": 20,
   "id": "398a2bfc",
   "metadata": {},
   "outputs": [
    {
     "data": {
      "text/html": [
       "<div>\n",
       "<style scoped>\n",
       "    .dataframe tbody tr th:only-of-type {\n",
       "        vertical-align: middle;\n",
       "    }\n",
       "\n",
       "    .dataframe tbody tr th {\n",
       "        vertical-align: top;\n",
       "    }\n",
       "\n",
       "    .dataframe thead th {\n",
       "        text-align: right;\n",
       "    }\n",
       "</style>\n",
       "<table border=\"1\" class=\"dataframe\">\n",
       "  <thead>\n",
       "    <tr style=\"text-align: right;\">\n",
       "      <th></th>\n",
       "      <th>Ticker</th>\n",
       "      <th>ROI</th>\n",
       "    </tr>\n",
       "  </thead>\n",
       "  <tbody>\n",
       "    <tr>\n",
       "      <th>51</th>\n",
       "      <td>TSLA</td>\n",
       "      <td>10.377370</td>\n",
       "    </tr>\n",
       "    <tr>\n",
       "      <th>41</th>\n",
       "      <td>PENN</td>\n",
       "      <td>3.440617</td>\n",
       "    </tr>\n",
       "    <tr>\n",
       "      <th>17</th>\n",
       "      <td>ETSY</td>\n",
       "      <td>2.785319</td>\n",
       "    </tr>\n",
       "    <tr>\n",
       "      <th>10</th>\n",
       "      <td>CMG</td>\n",
       "      <td>2.127729</td>\n",
       "    </tr>\n",
       "    <tr>\n",
       "      <th>50</th>\n",
       "      <td>TGT</td>\n",
       "      <td>1.797054</td>\n",
       "    </tr>\n",
       "  </tbody>\n",
       "</table>\n",
       "</div>"
      ],
      "text/plain": [
       "   Ticker        ROI\n",
       "51   TSLA  10.377370\n",
       "41   PENN   3.440617\n",
       "17   ETSY   2.785319\n",
       "10    CMG   2.127729\n",
       "50    TGT   1.797054"
      ]
     },
     "execution_count": 20,
     "metadata": {},
     "output_type": "execute_result"
    }
   ],
   "source": [
    "discretion.sort_values(by=['ROI'], ascending=False).head(5)"
   ]
  },
  {
   "cell_type": "markdown",
   "id": "2571b397",
   "metadata": {},
   "source": [
    "Top Utilities"
   ]
  },
  {
   "cell_type": "code",
   "execution_count": 21,
   "id": "064fa22c",
   "metadata": {},
   "outputs": [
    {
     "data": {
      "text/html": [
       "<div>\n",
       "<style scoped>\n",
       "    .dataframe tbody tr th:only-of-type {\n",
       "        vertical-align: middle;\n",
       "    }\n",
       "\n",
       "    .dataframe tbody tr th {\n",
       "        vertical-align: top;\n",
       "    }\n",
       "\n",
       "    .dataframe thead th {\n",
       "        text-align: right;\n",
       "    }\n",
       "</style>\n",
       "<table border=\"1\" class=\"dataframe\">\n",
       "  <thead>\n",
       "    <tr style=\"text-align: right;\">\n",
       "      <th></th>\n",
       "      <th>Ticker</th>\n",
       "      <th>ROI</th>\n",
       "    </tr>\n",
       "  </thead>\n",
       "  <tbody>\n",
       "    <tr>\n",
       "      <th>18</th>\n",
       "      <td>NEE</td>\n",
       "      <td>0.899435</td>\n",
       "    </tr>\n",
       "    <tr>\n",
       "      <th>4</th>\n",
       "      <td>AWK</td>\n",
       "      <td>0.787637</td>\n",
       "    </tr>\n",
       "    <tr>\n",
       "      <th>0</th>\n",
       "      <td>AES</td>\n",
       "      <td>0.770642</td>\n",
       "    </tr>\n",
       "    <tr>\n",
       "      <th>25</th>\n",
       "      <td>SO</td>\n",
       "      <td>0.533028</td>\n",
       "    </tr>\n",
       "    <tr>\n",
       "      <th>27</th>\n",
       "      <td>XEL</td>\n",
       "      <td>0.457615</td>\n",
       "    </tr>\n",
       "  </tbody>\n",
       "</table>\n",
       "</div>"
      ],
      "text/plain": [
       "   Ticker       ROI\n",
       "18    NEE  0.899435\n",
       "4     AWK  0.787637\n",
       "0     AES  0.770642\n",
       "25     SO  0.533028\n",
       "27    XEL  0.457615"
      ]
     },
     "execution_count": 21,
     "metadata": {},
     "output_type": "execute_result"
    }
   ],
   "source": [
    "utility.sort_values(by=['ROI'], ascending=False).head(5)"
   ]
  },
  {
   "cell_type": "markdown",
   "id": "6b5d2f42",
   "metadata": {},
   "source": [
    "Top Finance"
   ]
  },
  {
   "cell_type": "code",
   "execution_count": 22,
   "id": "dacd3353",
   "metadata": {},
   "outputs": [
    {
     "data": {
      "text/html": [
       "<div>\n",
       "<style scoped>\n",
       "    .dataframe tbody tr th:only-of-type {\n",
       "        vertical-align: middle;\n",
       "    }\n",
       "\n",
       "    .dataframe tbody tr th {\n",
       "        vertical-align: top;\n",
       "    }\n",
       "\n",
       "    .dataframe thead th {\n",
       "        text-align: right;\n",
       "    }\n",
       "</style>\n",
       "<table border=\"1\" class=\"dataframe\">\n",
       "  <thead>\n",
       "    <tr style=\"text-align: right;\">\n",
       "      <th></th>\n",
       "      <th>Ticker</th>\n",
       "      <th>ROI</th>\n",
       "    </tr>\n",
       "  </thead>\n",
       "  <tbody>\n",
       "    <tr>\n",
       "      <th>39</th>\n",
       "      <td>MSCI</td>\n",
       "      <td>2.100301</td>\n",
       "    </tr>\n",
       "    <tr>\n",
       "      <th>34</th>\n",
       "      <td>MKTX</td>\n",
       "      <td>1.760462</td>\n",
       "    </tr>\n",
       "    <tr>\n",
       "      <th>37</th>\n",
       "      <td>MCO</td>\n",
       "      <td>1.098857</td>\n",
       "    </tr>\n",
       "    <tr>\n",
       "      <th>51</th>\n",
       "      <td>SIVB</td>\n",
       "      <td>0.980341</td>\n",
       "    </tr>\n",
       "    <tr>\n",
       "      <th>49</th>\n",
       "      <td>SPGI</td>\n",
       "      <td>0.970903</td>\n",
       "    </tr>\n",
       "  </tbody>\n",
       "</table>\n",
       "</div>"
      ],
      "text/plain": [
       "   Ticker       ROI\n",
       "39   MSCI  2.100301\n",
       "34   MKTX  1.760462\n",
       "37    MCO  1.098857\n",
       "51   SIVB  0.980341\n",
       "49   SPGI  0.970903"
      ]
     },
     "execution_count": 22,
     "metadata": {},
     "output_type": "execute_result"
    }
   ],
   "source": [
    "finance.sort_values(by=['ROI'], ascending=False).head(5)"
   ]
  },
  {
   "cell_type": "markdown",
   "id": "abed4dc5",
   "metadata": {},
   "source": [
    "Top Materials"
   ]
  },
  {
   "cell_type": "code",
   "execution_count": 23,
   "id": "f392e276",
   "metadata": {},
   "outputs": [
    {
     "data": {
      "text/html": [
       "<div>\n",
       "<style scoped>\n",
       "    .dataframe tbody tr th:only-of-type {\n",
       "        vertical-align: middle;\n",
       "    }\n",
       "\n",
       "    .dataframe tbody tr th {\n",
       "        vertical-align: top;\n",
       "    }\n",
       "\n",
       "    .dataframe thead th {\n",
       "        text-align: right;\n",
       "    }\n",
       "</style>\n",
       "<table border=\"1\" class=\"dataframe\">\n",
       "  <thead>\n",
       "    <tr style=\"text-align: right;\">\n",
       "      <th></th>\n",
       "      <th>Ticker</th>\n",
       "      <th>ROI</th>\n",
       "    </tr>\n",
       "  </thead>\n",
       "  <tbody>\n",
       "    <tr>\n",
       "      <th>11</th>\n",
       "      <td>FCX</td>\n",
       "      <td>1.567112</td>\n",
       "    </tr>\n",
       "    <tr>\n",
       "      <th>3</th>\n",
       "      <td>BLL</td>\n",
       "      <td>1.119669</td>\n",
       "    </tr>\n",
       "    <tr>\n",
       "      <th>1</th>\n",
       "      <td>ALB</td>\n",
       "      <td>0.959942</td>\n",
       "    </tr>\n",
       "    <tr>\n",
       "      <th>22</th>\n",
       "      <td>SHW</td>\n",
       "      <td>0.907899</td>\n",
       "    </tr>\n",
       "    <tr>\n",
       "      <th>17</th>\n",
       "      <td>NEM</td>\n",
       "      <td>0.839972</td>\n",
       "    </tr>\n",
       "  </tbody>\n",
       "</table>\n",
       "</div>"
      ],
      "text/plain": [
       "   Ticker       ROI\n",
       "11    FCX  1.567112\n",
       "3     BLL  1.119669\n",
       "1     ALB  0.959942\n",
       "22    SHW  0.907899\n",
       "17    NEM  0.839972"
      ]
     },
     "execution_count": 23,
     "metadata": {},
     "output_type": "execute_result"
    }
   ],
   "source": [
    "material.sort_values(by=['ROI'], ascending=False).head(5)"
   ]
  },
  {
   "cell_type": "markdown",
   "id": "da3a8b9b",
   "metadata": {},
   "source": [
    "Top Real Estate"
   ]
  },
  {
   "cell_type": "code",
   "execution_count": 24,
   "id": "f09ea635",
   "metadata": {},
   "outputs": [
    {
     "data": {
      "text/html": [
       "<div>\n",
       "<style scoped>\n",
       "    .dataframe tbody tr th:only-of-type {\n",
       "        vertical-align: middle;\n",
       "    }\n",
       "\n",
       "    .dataframe tbody tr th {\n",
       "        vertical-align: top;\n",
       "    }\n",
       "\n",
       "    .dataframe thead th {\n",
       "        text-align: right;\n",
       "    }\n",
       "</style>\n",
       "<table border=\"1\" class=\"dataframe\">\n",
       "  <thead>\n",
       "    <tr style=\"text-align: right;\">\n",
       "      <th></th>\n",
       "      <th>Ticker</th>\n",
       "      <th>ROI</th>\n",
       "    </tr>\n",
       "  </thead>\n",
       "  <tbody>\n",
       "    <tr>\n",
       "      <th>8</th>\n",
       "      <td>EQIX</td>\n",
       "      <td>1.112940</td>\n",
       "    </tr>\n",
       "    <tr>\n",
       "      <th>17</th>\n",
       "      <td>PLD</td>\n",
       "      <td>0.841405</td>\n",
       "    </tr>\n",
       "    <tr>\n",
       "      <th>21</th>\n",
       "      <td>SBAC</td>\n",
       "      <td>0.771372</td>\n",
       "    </tr>\n",
       "    <tr>\n",
       "      <th>0</th>\n",
       "      <td>ARE</td>\n",
       "      <td>0.688283</td>\n",
       "    </tr>\n",
       "    <tr>\n",
       "      <th>7</th>\n",
       "      <td>DRE</td>\n",
       "      <td>0.684079</td>\n",
       "    </tr>\n",
       "  </tbody>\n",
       "</table>\n",
       "</div>"
      ],
      "text/plain": [
       "   Ticker       ROI\n",
       "8    EQIX  1.112940\n",
       "17    PLD  0.841405\n",
       "21   SBAC  0.771372\n",
       "0     ARE  0.688283\n",
       "7     DRE  0.684079"
      ]
     },
     "execution_count": 24,
     "metadata": {},
     "output_type": "execute_result"
    }
   ],
   "source": [
    "restate.sort_values(by=['ROI'], ascending=False).head(5)"
   ]
  },
  {
   "cell_type": "markdown",
   "id": "5077e7e5",
   "metadata": {},
   "source": [
    "Top Energy"
   ]
  },
  {
   "cell_type": "code",
   "execution_count": 25,
   "id": "a3fc9a8e",
   "metadata": {},
   "outputs": [
    {
     "data": {
      "text/html": [
       "<div>\n",
       "<style scoped>\n",
       "    .dataframe tbody tr th:only-of-type {\n",
       "        vertical-align: middle;\n",
       "    }\n",
       "\n",
       "    .dataframe tbody tr th {\n",
       "        vertical-align: top;\n",
       "    }\n",
       "\n",
       "    .dataframe thead th {\n",
       "        text-align: right;\n",
       "    }\n",
       "</style>\n",
       "<table border=\"1\" class=\"dataframe\">\n",
       "  <thead>\n",
       "    <tr style=\"text-align: right;\">\n",
       "      <th></th>\n",
       "      <th>Ticker</th>\n",
       "      <th>ROI</th>\n",
       "    </tr>\n",
       "  </thead>\n",
       "  <tbody>\n",
       "    <tr>\n",
       "      <th>8</th>\n",
       "      <td>HES</td>\n",
       "      <td>0.300170</td>\n",
       "    </tr>\n",
       "    <tr>\n",
       "      <th>19</th>\n",
       "      <td>WMB</td>\n",
       "      <td>0.030915</td>\n",
       "    </tr>\n",
       "    <tr>\n",
       "      <th>9</th>\n",
       "      <td>KMI</td>\n",
       "      <td>-0.026720</td>\n",
       "    </tr>\n",
       "    <tr>\n",
       "      <th>16</th>\n",
       "      <td>PXD</td>\n",
       "      <td>-0.122947</td>\n",
       "    </tr>\n",
       "    <tr>\n",
       "      <th>15</th>\n",
       "      <td>PSX</td>\n",
       "      <td>-0.133590</td>\n",
       "    </tr>\n",
       "  </tbody>\n",
       "</table>\n",
       "</div>"
      ],
      "text/plain": [
       "   Ticker       ROI\n",
       "8     HES  0.300170\n",
       "19    WMB  0.030915\n",
       "9     KMI -0.026720\n",
       "16    PXD -0.122947\n",
       "15    PSX -0.133590"
      ]
     },
     "execution_count": 25,
     "metadata": {},
     "output_type": "execute_result"
    }
   ],
   "source": [
    "energy.sort_values(by=['ROI'], ascending=False).head(5)"
   ]
  },
  {
   "cell_type": "markdown",
   "id": "4278bab6",
   "metadata": {},
   "source": [
    "Portfolio List"
   ]
  },
  {
   "cell_type": "code",
   "execution_count": 44,
   "id": "e8bacaec",
   "metadata": {},
   "outputs": [],
   "source": [
    "port_list = [\"GNRC\", \"DXCM\", \"AMD\", \"NFLX\", \"COST\", \"TGT\", \"AES\", \"MSCI\", \n",
    "             \"NEM\", \"SBAC\", \"HES\"]"
   ]
  },
  {
   "cell_type": "markdown",
   "id": "f2d635c2",
   "metadata": {},
   "source": [
    "Check for Correlation"
   ]
  },
  {
   "cell_type": "code",
   "execution_count": 45,
   "id": "0aca6f8c",
   "metadata": {},
   "outputs": [
    {
     "data": {
      "text/html": [
       "<div>\n",
       "<style scoped>\n",
       "    .dataframe tbody tr th:only-of-type {\n",
       "        vertical-align: middle;\n",
       "    }\n",
       "\n",
       "    .dataframe tbody tr th {\n",
       "        vertical-align: top;\n",
       "    }\n",
       "\n",
       "    .dataframe thead th {\n",
       "        text-align: right;\n",
       "    }\n",
       "</style>\n",
       "<table border=\"1\" class=\"dataframe\">\n",
       "  <thead>\n",
       "    <tr style=\"text-align: right;\">\n",
       "      <th></th>\n",
       "      <th>GNRC</th>\n",
       "      <th>DXCM</th>\n",
       "      <th>AMD</th>\n",
       "      <th>NFLX</th>\n",
       "      <th>COST</th>\n",
       "      <th>TGT</th>\n",
       "      <th>AES</th>\n",
       "      <th>MSCI</th>\n",
       "      <th>NEM</th>\n",
       "      <th>SBAC</th>\n",
       "      <th>HES</th>\n",
       "    </tr>\n",
       "  </thead>\n",
       "  <tbody>\n",
       "    <tr>\n",
       "      <th>GNRC</th>\n",
       "      <td>1.000000</td>\n",
       "      <td>0.362135</td>\n",
       "      <td>0.410602</td>\n",
       "      <td>0.314682</td>\n",
       "      <td>0.390427</td>\n",
       "      <td>0.348294</td>\n",
       "      <td>0.432668</td>\n",
       "      <td>0.488260</td>\n",
       "      <td>0.161205</td>\n",
       "      <td>0.382980</td>\n",
       "      <td>0.294268</td>\n",
       "    </tr>\n",
       "    <tr>\n",
       "      <th>DXCM</th>\n",
       "      <td>0.362135</td>\n",
       "      <td>1.000000</td>\n",
       "      <td>0.380586</td>\n",
       "      <td>0.335258</td>\n",
       "      <td>0.287725</td>\n",
       "      <td>0.219398</td>\n",
       "      <td>0.284324</td>\n",
       "      <td>0.520413</td>\n",
       "      <td>0.100859</td>\n",
       "      <td>0.342548</td>\n",
       "      <td>0.209680</td>\n",
       "    </tr>\n",
       "    <tr>\n",
       "      <th>AMD</th>\n",
       "      <td>0.410602</td>\n",
       "      <td>0.380586</td>\n",
       "      <td>1.000000</td>\n",
       "      <td>0.430986</td>\n",
       "      <td>0.434194</td>\n",
       "      <td>0.337098</td>\n",
       "      <td>0.287795</td>\n",
       "      <td>0.526674</td>\n",
       "      <td>0.128252</td>\n",
       "      <td>0.336368</td>\n",
       "      <td>0.253388</td>\n",
       "    </tr>\n",
       "    <tr>\n",
       "      <th>NFLX</th>\n",
       "      <td>0.314682</td>\n",
       "      <td>0.335258</td>\n",
       "      <td>0.430986</td>\n",
       "      <td>1.000000</td>\n",
       "      <td>0.382680</td>\n",
       "      <td>0.259088</td>\n",
       "      <td>0.225051</td>\n",
       "      <td>0.434027</td>\n",
       "      <td>0.061184</td>\n",
       "      <td>0.234332</td>\n",
       "      <td>0.105305</td>\n",
       "    </tr>\n",
       "    <tr>\n",
       "      <th>COST</th>\n",
       "      <td>0.390427</td>\n",
       "      <td>0.287725</td>\n",
       "      <td>0.434194</td>\n",
       "      <td>0.382680</td>\n",
       "      <td>1.000000</td>\n",
       "      <td>0.477781</td>\n",
       "      <td>0.328815</td>\n",
       "      <td>0.491728</td>\n",
       "      <td>0.163665</td>\n",
       "      <td>0.459252</td>\n",
       "      <td>0.127885</td>\n",
       "    </tr>\n",
       "    <tr>\n",
       "      <th>TGT</th>\n",
       "      <td>0.348294</td>\n",
       "      <td>0.219398</td>\n",
       "      <td>0.337098</td>\n",
       "      <td>0.259088</td>\n",
       "      <td>0.477781</td>\n",
       "      <td>1.000000</td>\n",
       "      <td>0.313069</td>\n",
       "      <td>0.339650</td>\n",
       "      <td>0.075922</td>\n",
       "      <td>0.305729</td>\n",
       "      <td>0.213917</td>\n",
       "    </tr>\n",
       "    <tr>\n",
       "      <th>AES</th>\n",
       "      <td>0.432668</td>\n",
       "      <td>0.284324</td>\n",
       "      <td>0.287795</td>\n",
       "      <td>0.225051</td>\n",
       "      <td>0.328815</td>\n",
       "      <td>0.313069</td>\n",
       "      <td>1.000000</td>\n",
       "      <td>0.476271</td>\n",
       "      <td>0.179486</td>\n",
       "      <td>0.314490</td>\n",
       "      <td>0.447509</td>\n",
       "    </tr>\n",
       "    <tr>\n",
       "      <th>MSCI</th>\n",
       "      <td>0.488260</td>\n",
       "      <td>0.520413</td>\n",
       "      <td>0.526674</td>\n",
       "      <td>0.434027</td>\n",
       "      <td>0.491728</td>\n",
       "      <td>0.339650</td>\n",
       "      <td>0.476271</td>\n",
       "      <td>1.000000</td>\n",
       "      <td>0.197723</td>\n",
       "      <td>0.510727</td>\n",
       "      <td>0.318149</td>\n",
       "    </tr>\n",
       "    <tr>\n",
       "      <th>NEM</th>\n",
       "      <td>0.161205</td>\n",
       "      <td>0.100859</td>\n",
       "      <td>0.128252</td>\n",
       "      <td>0.061184</td>\n",
       "      <td>0.163665</td>\n",
       "      <td>0.075922</td>\n",
       "      <td>0.179486</td>\n",
       "      <td>0.197723</td>\n",
       "      <td>1.000000</td>\n",
       "      <td>0.276635</td>\n",
       "      <td>0.145001</td>\n",
       "    </tr>\n",
       "    <tr>\n",
       "      <th>SBAC</th>\n",
       "      <td>0.382980</td>\n",
       "      <td>0.342548</td>\n",
       "      <td>0.336368</td>\n",
       "      <td>0.234332</td>\n",
       "      <td>0.459252</td>\n",
       "      <td>0.305729</td>\n",
       "      <td>0.314490</td>\n",
       "      <td>0.510727</td>\n",
       "      <td>0.276635</td>\n",
       "      <td>1.000000</td>\n",
       "      <td>0.200501</td>\n",
       "    </tr>\n",
       "    <tr>\n",
       "      <th>HES</th>\n",
       "      <td>0.294268</td>\n",
       "      <td>0.209680</td>\n",
       "      <td>0.253388</td>\n",
       "      <td>0.105305</td>\n",
       "      <td>0.127885</td>\n",
       "      <td>0.213917</td>\n",
       "      <td>0.447509</td>\n",
       "      <td>0.318149</td>\n",
       "      <td>0.145001</td>\n",
       "      <td>0.200501</td>\n",
       "      <td>1.000000</td>\n",
       "    </tr>\n",
       "  </tbody>\n",
       "</table>\n",
       "</div>"
      ],
      "text/plain": [
       "          GNRC      DXCM       AMD      NFLX      COST       TGT       AES  \\\n",
       "GNRC  1.000000  0.362135  0.410602  0.314682  0.390427  0.348294  0.432668   \n",
       "DXCM  0.362135  1.000000  0.380586  0.335258  0.287725  0.219398  0.284324   \n",
       "AMD   0.410602  0.380586  1.000000  0.430986  0.434194  0.337098  0.287795   \n",
       "NFLX  0.314682  0.335258  0.430986  1.000000  0.382680  0.259088  0.225051   \n",
       "COST  0.390427  0.287725  0.434194  0.382680  1.000000  0.477781  0.328815   \n",
       "TGT   0.348294  0.219398  0.337098  0.259088  0.477781  1.000000  0.313069   \n",
       "AES   0.432668  0.284324  0.287795  0.225051  0.328815  0.313069  1.000000   \n",
       "MSCI  0.488260  0.520413  0.526674  0.434027  0.491728  0.339650  0.476271   \n",
       "NEM   0.161205  0.100859  0.128252  0.061184  0.163665  0.075922  0.179486   \n",
       "SBAC  0.382980  0.342548  0.336368  0.234332  0.459252  0.305729  0.314490   \n",
       "HES   0.294268  0.209680  0.253388  0.105305  0.127885  0.213917  0.447509   \n",
       "\n",
       "          MSCI       NEM      SBAC       HES  \n",
       "GNRC  0.488260  0.161205  0.382980  0.294268  \n",
       "DXCM  0.520413  0.100859  0.342548  0.209680  \n",
       "AMD   0.526674  0.128252  0.336368  0.253388  \n",
       "NFLX  0.434027  0.061184  0.234332  0.105305  \n",
       "COST  0.491728  0.163665  0.459252  0.127885  \n",
       "TGT   0.339650  0.075922  0.305729  0.213917  \n",
       "AES   0.476271  0.179486  0.314490  0.447509  \n",
       "MSCI  1.000000  0.197723  0.510727  0.318149  \n",
       "NEM   0.197723  1.000000  0.276635  0.145001  \n",
       "SBAC  0.510727  0.276635  1.000000  0.200501  \n",
       "HES   0.318149  0.145001  0.200501  1.000000  "
      ]
     },
     "execution_count": 45,
     "metadata": {},
     "output_type": "execute_result"
    }
   ],
   "source": [
    "mult_df = merge_df_by_column_name(\"daily_return\",  \"2019-01-03\", \"2022-04-05\", *port_list)\n",
    "mult_df\n",
    "\n",
    "# Generate a Correlation Matrix\n",
    "mult_df.corr()"
   ]
  },
  {
   "cell_type": "code",
   "execution_count": 46,
   "id": "e99bf974",
   "metadata": {},
   "outputs": [
    {
     "data": {
      "text/plain": [
       "819"
      ]
     },
     "execution_count": 46,
     "metadata": {},
     "output_type": "execute_result"
    }
   ],
   "source": [
    "# Get the number of samples\n",
    "days = len(mult_df.index)\n",
    "days"
   ]
  },
  {
   "cell_type": "code",
   "execution_count": 47,
   "id": "9020e0a7",
   "metadata": {},
   "outputs": [],
   "source": [
    "def get_stock_price_on_date(ticker, date):\n",
    "    df = get_df_from_csv(ticker)\n",
    "    df = df.set_index(['Date'])\n",
    "    return df.loc[date,'Adj Close']"
   ]
  },
  {
   "cell_type": "code",
   "execution_count": 48,
   "id": "0e7c73f2",
   "metadata": {},
   "outputs": [
    {
     "name": "stdout",
     "output_type": "stream",
     "text": [
      "GNRC $ 224.5599975585937\n",
      "DXCM $ 357.739990234375\n",
      "AMD $ 92.3000030517578\n",
      "NFLX $ 522.8599853515625\n",
      "COST $ 376.7002258300781\n",
      "TGT $ 174.46778869628906\n",
      "AES $ 22.52255249023437\n",
      "MSCI $ 433.8714294433594\n",
      "NEM $ 60.45637893676758\n",
      "SBAC $ 272.917724609375\n",
      "HES $ 51.91611862182617\n"
     ]
    }
   ],
   "source": [
    "# 01-04-2021 is the 1st date in 2021\n",
    "investment_date = '2021-01-04'\n",
    "print(\"GNRC $\", get_stock_price_on_date('GNRC', investment_date)) # 2 449.12\n",
    "print(\"DXCM $\", get_stock_price_on_date('DXCM', investment_date)) # 1 357.74\n",
    "print(\"AMD $\", get_stock_price_on_date('AMD', investment_date)) # 4 369.2\n",
    "print(\"NFLX $\", get_stock_price_on_date('NFLX', investment_date)) # 1 522.86\n",
    "print(\"COST $\", get_stock_price_on_date('COST', investment_date)) # 1 377.88\n",
    "print(\"TGT $\", get_stock_price_on_date('TGT', investment_date)) # 3 527.46\n",
    "print(\"AES $\", get_stock_price_on_date('AES', investment_date)) # 18 410.76\n",
    "print(\"MSCI $\", get_stock_price_on_date('MSCI', investment_date)) # 1 435.40\n",
    "print(\"NEM $\", get_stock_price_on_date('NEM', investment_date)) # 7 434.49\n",
    "print(\"SBAC $\", get_stock_price_on_date('SBAC', investment_date)) # 2 548.84\n",
    "print(\"HES $\", get_stock_price_on_date('HES', investment_date)) # 9 472.23"
   ]
  },
  {
   "cell_type": "code",
   "execution_count": 49,
   "id": "0ad1e992",
   "metadata": {},
   "outputs": [
    {
     "data": {
      "text/plain": [
       "4905.980000000001"
      ]
     },
     "execution_count": 49,
     "metadata": {},
     "output_type": "execute_result"
    }
   ],
   "source": [
    "# Total Investment\n",
    "tot_inv = 449.12 + 357.74 + 369.2 + 522.86 + 377.88 + 527.46 + 410.76 + \\\n",
    "435.40 + 434.49 + 548.84 + 472.23\n",
    "tot_inv"
   ]
  },
  {
   "cell_type": "markdown",
   "id": "d47c5832",
   "metadata": {},
   "source": [
    "Returns Portfolio Weight"
   ]
  },
  {
   "cell_type": "code",
   "execution_count": 50,
   "id": "2483bcdf",
   "metadata": {},
   "outputs": [],
   "source": [
    "def get_port_weight(price, total):\n",
    "    return price / total"
   ]
  },
  {
   "cell_type": "code",
   "execution_count": 51,
   "id": "4f3e158e",
   "metadata": {},
   "outputs": [],
   "source": [
    "gnrc_w = get_port_weight(449.12, 4905.98)\n",
    "dxcm_w = get_port_weight(357.74, 4905.98)\n",
    "amd_w = get_port_weight(369.2, 4905.98)\n",
    "nflx_w = get_port_weight(522.86, 4905.98)\n",
    "cost_w = get_port_weight(377.88, 4905.98)\n",
    "tgt_w = get_port_weight(527.46, 4905.98)\n",
    "aes_w = get_port_weight(410.76, 4905.98)\n",
    "msci_w = get_port_weight(435.40, 4905.98)\n",
    "nem_w = get_port_weight(434.49, 4905.98)\n",
    "sbac_w = get_port_weight(548.84, 4905.98)\n",
    "hes_w = get_port_weight(472.23, 4905.98)"
   ]
  },
  {
   "cell_type": "code",
   "execution_count": 52,
   "id": "1608c48e",
   "metadata": {},
   "outputs": [
    {
     "data": {
      "text/plain": [
       "array([0.09154542, 0.07291917, 0.0752551 , 0.10657606, 0.07702437,\n",
       "       0.10751369, 0.08372639, 0.08874883, 0.08856335, 0.11187163,\n",
       "       0.096256  ])"
      ]
     },
     "execution_count": 52,
     "metadata": {},
     "output_type": "execute_result"
    }
   ],
   "source": [
    "wts = np.array([gnrc_w, dxcm_w, amd_w, nflx_w, cost_w, tgt_w, aes_w, msci_w, \\\n",
    "                nem_w, sbac_w, hes_w])\n",
    "wts"
   ]
  },
  {
   "cell_type": "code",
   "execution_count": 53,
   "id": "946f436e",
   "metadata": {},
   "outputs": [
    {
     "name": "stdout",
     "output_type": "stream",
     "text": [
      "Portfolio Covariance : 0.17252017872963393\n",
      "GNRC Var : 0.5895197678005564\n",
      "NFLX Var : 0.5099425113690421\n"
     ]
    }
   ],
   "source": [
    "port_var = np.dot(wts.T, np.dot(mult_df.cov() * 756, wts))\n",
    "print(\"Portfolio Covariance :\", port_var)\n",
    "print(\"GNRC Var :\", mult_df[\"GNRC\"].var() * 756)\n",
    "print(\"NFLX Var :\", mult_df[\"NFLX\"].var() * 756)"
   ]
  },
  {
   "cell_type": "markdown",
   "id": "988f2ba6",
   "metadata": {},
   "source": [
    "Diversifiable Risk"
   ]
  },
  {
   "cell_type": "code",
   "execution_count": 54,
   "id": "6276d8d9",
   "metadata": {},
   "outputs": [],
   "source": [
    "# Diversifiable Risk = Portfolio Variance - All Weighted Variances\n",
    "def calc_diversifiable_risk(df, tickers, weights):\n",
    "    # Gets number of days\n",
    "    days = len(mult_df.index)\n",
    "    # Calculate covariance of portfolio\n",
    "    port_covar = np.dot(weights.T, np.dot(df.cov() * days, weights)) \n",
    "    \n",
    "    i = 0\n",
    "    while i < len(tickers):\n",
    "        wt_sq = weights[i] ** 2\n",
    "        stk_var = mult_df[tickers[i]].var() * days\n",
    "        wt_var = wt_sq * stk_var\n",
    "        port_covar = port_covar - wt_var\n",
    "        i += 1\n",
    "    return port_covar"
   ]
  },
  {
   "cell_type": "code",
   "execution_count": 55,
   "id": "520e2bd9",
   "metadata": {},
   "outputs": [
    {
     "data": {
      "text/plain": [
       "0.13832350542611876"
      ]
     },
     "execution_count": 55,
     "metadata": {},
     "output_type": "execute_result"
    }
   ],
   "source": [
    "div_risk = calc_diversifiable_risk(mult_df, port_list, wts)\n",
    "div_risk"
   ]
  },
  {
   "cell_type": "markdown",
   "id": "6b18d8fb",
   "metadata": {},
   "source": [
    "Find Risk that Can't be Diversified"
   ]
  },
  {
   "cell_type": "code",
   "execution_count": 56,
   "id": "1125e24c",
   "metadata": {},
   "outputs": [
    {
     "name": "stdout",
     "output_type": "stream",
     "text": [
      "Systematic Risk : 0.03419667330351517\n"
     ]
    }
   ],
   "source": [
    "print(\"Systematic Risk :\", (port_var - div_risk))"
   ]
  },
  {
   "cell_type": "code",
   "execution_count": null,
   "id": "d785c921",
   "metadata": {},
   "outputs": [],
   "source": []
  }
 ],
 "metadata": {
  "kernelspec": {
   "display_name": "Python 3 (ipykernel)",
   "language": "python",
   "name": "python3"
  },
  "language_info": {
   "codemirror_mode": {
    "name": "ipython",
    "version": 3
   },
   "file_extension": ".py",
   "mimetype": "text/x-python",
   "name": "python",
   "nbconvert_exporter": "python",
   "pygments_lexer": "ipython3",
   "version": "3.8.12"
  },
  "toc": {
   "base_numbering": 1,
   "nav_menu": {},
   "number_sections": true,
   "sideBar": true,
   "skip_h1_title": false,
   "title_cell": "Table of Contents",
   "title_sidebar": "Contents",
   "toc_cell": false,
   "toc_position": {},
   "toc_section_display": true,
   "toc_window_display": false
  }
 },
 "nbformat": 4,
 "nbformat_minor": 5
}
